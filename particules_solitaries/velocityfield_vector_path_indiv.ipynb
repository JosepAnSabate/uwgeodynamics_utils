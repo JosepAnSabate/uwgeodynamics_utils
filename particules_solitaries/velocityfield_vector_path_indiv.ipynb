{
 "cells": [
  {
   "cell_type": "code",
   "execution_count": 1,
   "id": "6dce2dde",
   "metadata": {},
   "outputs": [],
   "source": [
    "import h5py\n",
    "import pandas as pd\n",
    "import numpy as np\n",
    "import os\n",
    "import random"
   ]
  },
  {
   "cell_type": "code",
   "execution_count": 4,
   "id": "5f63fc06",
   "metadata": {},
   "outputs": [],
   "source": [
    "def create_velocityfield_v_path(\n",
    "    dir_data='./data_p/',\n",
    "    num_particle=2\n",
    "):\n",
    "        #########################################\n",
    "    \"\"\"\n",
    "    Use lag-{time} for coordinates and lag_velocityField \n",
    "    for plotting the velocityf field arrow.\n",
    "    \n",
    "    In paraview use: \n",
    "     iHat * vx + jHat * vy + kHat * vz\n",
    "    \"\"\"\n",
    "    #########################################\n",
    "    # Check if the data folder exists\n",
    "    if not os.path.exists(dir_data):\n",
    "        raise FileNotFoundError(f\"Folder '{dir_data}' not found.\")\n",
    "    \n",
    "    # count num of timesteps\n",
    "    prefix = f'tip_velocitygradient'\n",
    "    files = os.listdir(dir_data)\n",
    "    num_files = sum([1 for file in files if file.startswith(prefix)])\n",
    "    print(num_files)\n",
    "\n",
    "    pd.set_option('display.precision', 20)\n",
    "    columns = ['x', 'y', 'z', 'vx', 'vy', 'vz']\n",
    "    df = pd.DataFrame(columns=columns)\n",
    "    \n",
    "    # loop by number of files\n",
    "    print('hi')\n",
    "    time = 0\n",
    "    while time < num_files:\n",
    "        # velfield\n",
    "        h5_file =  dir_data + f'tip_velocityfield-{time}.h5'\n",
    "            \n",
    "        with h5py.File(h5_file, 'r') as file:\n",
    "            for key in file.keys():\n",
    "                vel_field = file[key][num_particle]\n",
    "            \n",
    "        #coordinates\n",
    "        h5_file_coord =  dir_data +  f'tip-{time}.h5'\n",
    "        with h5py.File(h5_file_coord, 'r') as file:\n",
    "            # create a variable name for storing strain rate tensor array\n",
    "            for key in file.keys():\n",
    "                coordinates = file[key][num_particle]\n",
    "            \n",
    "        \n",
    "        # construct df\n",
    "        x = coordinates[0]\n",
    "        y = coordinates[1]\n",
    "        z = coordinates[2]\n",
    "        vx = vel_field[0]\n",
    "        vy = vel_field[1]\n",
    "        vz = vel_field[2]\n",
    "        new_row = {'x': x, 'y': y, 'z': z, 'vx': vx, 'vy': vy, 'vz': vz}\n",
    "        df = df.append(new_row, ignore_index=True)\n",
    "        \n",
    "        # SAVE FILE\n",
    "        save_path = './csv_velfield_vector_path/'\n",
    "        # Check if destination folder exist\n",
    "        os.makedirs(save_path, exist_ok=True)\n",
    "        df.to_csv(save_path + f'velocity_vector_{num_particle}_{time}.csv', index=False)\n",
    "\n",
    "        time += 1\n",
    "    "
   ]
  },
  {
   "cell_type": "code",
   "execution_count": 5,
   "id": "359239dd",
   "metadata": {},
   "outputs": [
    {
     "name": "stdout",
     "output_type": "stream",
     "text": [
      "17\n",
      "hi\n"
     ]
    },
    {
     "name": "stderr",
     "output_type": "stream",
     "text": [
      "/tmp/ipykernel_1176/2438638614.py:55: FutureWarning: The frame.append method is deprecated and will be removed from pandas in a future version. Use pandas.concat instead.\n",
      "  df = df.append(new_row, ignore_index=True)\n",
      "/tmp/ipykernel_1176/2438638614.py:55: FutureWarning: The frame.append method is deprecated and will be removed from pandas in a future version. Use pandas.concat instead.\n",
      "  df = df.append(new_row, ignore_index=True)\n",
      "/tmp/ipykernel_1176/2438638614.py:55: FutureWarning: The frame.append method is deprecated and will be removed from pandas in a future version. Use pandas.concat instead.\n",
      "  df = df.append(new_row, ignore_index=True)\n",
      "/tmp/ipykernel_1176/2438638614.py:55: FutureWarning: The frame.append method is deprecated and will be removed from pandas in a future version. Use pandas.concat instead.\n",
      "  df = df.append(new_row, ignore_index=True)\n",
      "/tmp/ipykernel_1176/2438638614.py:55: FutureWarning: The frame.append method is deprecated and will be removed from pandas in a future version. Use pandas.concat instead.\n",
      "  df = df.append(new_row, ignore_index=True)\n",
      "/tmp/ipykernel_1176/2438638614.py:55: FutureWarning: The frame.append method is deprecated and will be removed from pandas in a future version. Use pandas.concat instead.\n",
      "  df = df.append(new_row, ignore_index=True)\n",
      "/tmp/ipykernel_1176/2438638614.py:55: FutureWarning: The frame.append method is deprecated and will be removed from pandas in a future version. Use pandas.concat instead.\n",
      "  df = df.append(new_row, ignore_index=True)\n",
      "/tmp/ipykernel_1176/2438638614.py:55: FutureWarning: The frame.append method is deprecated and will be removed from pandas in a future version. Use pandas.concat instead.\n",
      "  df = df.append(new_row, ignore_index=True)\n",
      "/tmp/ipykernel_1176/2438638614.py:55: FutureWarning: The frame.append method is deprecated and will be removed from pandas in a future version. Use pandas.concat instead.\n",
      "  df = df.append(new_row, ignore_index=True)\n",
      "/tmp/ipykernel_1176/2438638614.py:55: FutureWarning: The frame.append method is deprecated and will be removed from pandas in a future version. Use pandas.concat instead.\n",
      "  df = df.append(new_row, ignore_index=True)\n",
      "/tmp/ipykernel_1176/2438638614.py:55: FutureWarning: The frame.append method is deprecated and will be removed from pandas in a future version. Use pandas.concat instead.\n",
      "  df = df.append(new_row, ignore_index=True)\n",
      "/tmp/ipykernel_1176/2438638614.py:55: FutureWarning: The frame.append method is deprecated and will be removed from pandas in a future version. Use pandas.concat instead.\n",
      "  df = df.append(new_row, ignore_index=True)\n",
      "/tmp/ipykernel_1176/2438638614.py:55: FutureWarning: The frame.append method is deprecated and will be removed from pandas in a future version. Use pandas.concat instead.\n",
      "  df = df.append(new_row, ignore_index=True)\n",
      "/tmp/ipykernel_1176/2438638614.py:55: FutureWarning: The frame.append method is deprecated and will be removed from pandas in a future version. Use pandas.concat instead.\n",
      "  df = df.append(new_row, ignore_index=True)\n",
      "/tmp/ipykernel_1176/2438638614.py:55: FutureWarning: The frame.append method is deprecated and will be removed from pandas in a future version. Use pandas.concat instead.\n",
      "  df = df.append(new_row, ignore_index=True)\n",
      "/tmp/ipykernel_1176/2438638614.py:55: FutureWarning: The frame.append method is deprecated and will be removed from pandas in a future version. Use pandas.concat instead.\n",
      "  df = df.append(new_row, ignore_index=True)\n",
      "/tmp/ipykernel_1176/2438638614.py:55: FutureWarning: The frame.append method is deprecated and will be removed from pandas in a future version. Use pandas.concat instead.\n",
      "  df = df.append(new_row, ignore_index=True)\n"
     ]
    }
   ],
   "source": [
    "create_velocityfield_v_path()"
   ]
  },
  {
   "cell_type": "markdown",
   "id": "45cffefe",
   "metadata": {},
   "source": [
    "### In Paraview:\n",
    "\n",
    "    a) Open -> CSV Reader -> Apply\n",
    "    \n",
    "    b)Filtetr -> Alphabetical -> Table to Points\n",
    "    \n",
    "        x = x\n",
    "        y = y \n",
    "        z = z\n",
    "        \n",
    "        Apply\n",
    "        \n",
    "    c) Filter -> Alphabetical -> Calculator:\n",
    "        iHat * vx + jHat * vy + kHat * vz\n",
    "        \n",
    "        Apply\n",
    "        \n",
    "    d) Filter -> Alphabetical -> Glyph\n",
    "    \n",
    "    Scalable Factor 250\n",
    "    \n",
    "    Apply\n",
    "        "
   ]
  },
  {
   "cell_type": "code",
   "execution_count": null,
   "id": "a4cbbf21",
   "metadata": {},
   "outputs": [],
   "source": []
  }
 ],
 "metadata": {
  "kernelspec": {
   "display_name": "Python 3 (ipykernel)",
   "language": "python",
   "name": "python3"
  },
  "language_info": {
   "codemirror_mode": {
    "name": "ipython",
    "version": 3
   },
   "file_extension": ".py",
   "mimetype": "text/x-python",
   "name": "python",
   "nbconvert_exporter": "python",
   "pygments_lexer": "ipython3",
   "version": "3.9.7"
  }
 },
 "nbformat": 4,
 "nbformat_minor": 5
}
