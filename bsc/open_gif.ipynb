{
 "cells": [
  {
   "cell_type": "markdown",
   "id": "f7dc1d21",
   "metadata": {},
   "source": [
    "# Gif Duration"
   ]
  },
  {
   "cell_type": "markdown",
   "id": "e3ae6e10",
   "metadata": {},
   "source": [
    "## File -> Save animations "
   ]
  },
  {
   "cell_type": "markdown",
   "id": "ed863888",
   "metadata": {},
   "source": [
    "## Create a gift weight reduced"
   ]
  },
  {
   "cell_type": "code",
   "execution_count": 29,
   "id": "9d275092",
   "metadata": {
    "scrolled": true
   },
   "outputs": [
    {
     "name": "stdout",
     "output_type": "stream",
     "text": [
      "Total frames before reduction: 711\n",
      "Total frames after reduction: 143\n",
      "GIF created successfully with reduced frames!\n"
     ]
    }
   ],
   "source": [
    "from PIL import Image\n",
    "import glob\n",
    "\n",
    "# Define the path pattern to your images\n",
    "image_folder = \"./video_p/p8/\"\n",
    "image_pattern = image_folder + \"*.png\"  # Assuming the images are in PNG format\n",
    "\n",
    "# Get the list of image file paths\n",
    "image_files = sorted(glob.glob(image_pattern))\n",
    "print(f\"Total frames before reduction: {len(image_files)}\")\n",
    "\n",
    "# Skip every n frames (e.g., keep every 3rd frame)\n",
    "n = 5  # Adjust this value to reduce frames\n",
    "reduced_image_files = image_files[::n]\n",
    "print(f\"Total frames after reduction: {len(reduced_image_files)}\")\n",
    "\n",
    "# Calculate the new frame duration to maintain the same total duration\n",
    "total_duration = 64  # in seconds\n",
    "frame_count = len(reduced_image_files)\n",
    "frame_duration = (total_duration / frame_count) * 1000  # in milliseconds\n",
    "\n",
    "# Open the reduced images\n",
    "images = [Image.open(image) for image in reduced_image_files]\n",
    "\n",
    "# Save as GIF\n",
    "gif_path = \"./gift_p/p8_reduced.gif\"\n",
    "images[0].save(gif_path, save_all=True, append_images=images[1:], duration=frame_duration, loop=0)\n",
    "\n",
    "print(\"GIF created successfully with reduced frames!\")\n"
   ]
  },
  {
   "cell_type": "markdown",
   "id": "7f401883",
   "metadata": {},
   "source": [
    "## Duration"
   ]
  },
  {
   "cell_type": "code",
   "execution_count": 10,
   "id": "ed0f7327",
   "metadata": {},
   "outputs": [],
   "source": [
    "from PIL import Image\n",
    "\n",
    "# Path to the GIF file\n",
    "gif_path = \"./gift/p1.gif\"\n",
    "\n",
    "# Open the GIF file\n",
    "gif = Image.open(gif_path)\n",
    "\n",
    "# Count the number of frames in the GIF\n",
    "frame_count = gif.n_frames\n",
    "\n",
    "# Calculate the total duration of the GIF\n",
    "total_duration = 0\n",
    "for frame in range(frame_count):\n",
    "    gif.seek(frame)\n",
    "    frame_duration = gif.info['duration']  # duration of the current frame in milliseconds\n",
    "    total_duration += frame_duration\n",
    "\n",
    "# Convert total duration from milliseconds to seconds\n",
    "total_duration_seconds = total_duration / 1000"
   ]
  },
  {
   "cell_type": "code",
   "execution_count": 11,
   "id": "ddde716b",
   "metadata": {},
   "outputs": [
    {
     "data": {
      "text/plain": [
       "32.32"
      ]
     },
     "execution_count": 11,
     "metadata": {},
     "output_type": "execute_result"
    }
   ],
   "source": [
    "total_duration_seconds"
   ]
  },
  {
   "cell_type": "markdown",
   "id": "57535e01",
   "metadata": {},
   "source": [
    "# Count Frames"
   ]
  },
  {
   "cell_type": "code",
   "execution_count": 8,
   "id": "17e594c1",
   "metadata": {
    "scrolled": true
   },
   "outputs": [
    {
     "data": {
      "text/plain": [
       "781"
      ]
     },
     "execution_count": 8,
     "metadata": {},
     "output_type": "execute_result"
    }
   ],
   "source": [
    "gif = Image.open(gif_path)\n",
    "\n",
    "# Count the number of frames in the GIF\n",
    "frame_count = gif.n_frames\n",
    "\n",
    "frame_count"
   ]
  },
  {
   "cell_type": "code",
   "execution_count": 9,
   "id": "f09e11df",
   "metadata": {},
   "outputs": [
    {
     "data": {
      "text/plain": [
       "0.3"
      ]
     },
     "execution_count": 9,
     "metadata": {},
     "output_type": "execute_result"
    }
   ],
   "source": [
    "26.1/87"
   ]
  },
  {
   "cell_type": "markdown",
   "id": "3f5c595e",
   "metadata": {},
   "source": [
    "## Create Gift less size"
   ]
  },
  {
   "cell_type": "code",
   "execution_count": 22,
   "id": "7bff0aa6",
   "metadata": {},
   "outputs": [
    {
     "name": "stdout",
     "output_type": "stream",
     "text": [
      "Total images found: 803\n",
      "Images after frame reduction: 268\n",
      "GIF created successfully with reduced frames and resized images!\n"
     ]
    }
   ],
   "source": [
    "from PIL import Image\n",
    "import glob\n",
    "\n",
    "# Define the path pattern to your images\n",
    "image_folder = \"./gits_img/p10/\"\n",
    "image_pattern = image_folder + \"*.png\"  # Assuming the images are in PNG format\n",
    "\n",
    "# Get the list of image file paths\n",
    "image_files = sorted(glob.glob(image_pattern))\n",
    "print(f\"Total images found: {len(image_files)}\")\n",
    "\n",
    "# Calculate the duration of each frame in milliseconds\n",
    "total_duration = 38  # in seconds\n",
    "frame_count = 801\n",
    "frame_duration = (total_duration / frame_count) * 1000  # in milliseconds\n",
    "\n",
    "# Reduce frames: Keep every 2nd or 3rd frame\n",
    "frame_skip = 3  # Change this to 2 or 3 to reduce frames\n",
    "image_files = image_files[::frame_skip]  # Keep every 'frame_skip'th image\n",
    "print(f\"Images after frame reduction: {len(image_files)}\")\n",
    "\n",
    "# Open and resize the images\n",
    "new_size = (800, 600)  # Set the desired new size here\n",
    "images = [Image.open(image).resize(new_size, Image.ANTIALIAS) for image in image_files]\n",
    "\n",
    "# Save as GIF\n",
    "gif_path = \"./gift/p10_reduced.gif\"\n",
    "images[0].save(gif_path, save_all=True, append_images=images[1:], duration=frame_duration * frame_skip, loop=0)\n",
    "\n",
    "print(\"GIF created successfully with reduced frames and resized images!\")\n"
   ]
  },
  {
   "cell_type": "markdown",
   "id": "9a314657",
   "metadata": {},
   "source": [
    "# Create Gif"
   ]
  },
  {
   "cell_type": "code",
   "execution_count": 7,
   "id": "d81d7436",
   "metadata": {},
   "outputs": [
    {
     "name": "stdout",
     "output_type": "stream",
     "text": [
      "['./gits_img/p1/p1.0000.png', './gits_img/p1/p1.0001.png', './gits_img/p1/p1.0002.png', './gits_img/p1/p1.0003.png', './gits_img/p1/p1.0004.png', './gits_img/p1/p1.0005.png', './gits_img/p1/p1.0006.png', './gits_img/p1/p1.0007.png', './gits_img/p1/p1.0008.png', './gits_img/p1/p1.0009.png', './gits_img/p1/p1.0010.png', './gits_img/p1/p1.0011.png', './gits_img/p1/p1.0012.png', './gits_img/p1/p1.0013.png', './gits_img/p1/p1.0014.png', './gits_img/p1/p1.0015.png', './gits_img/p1/p1.0016.png', './gits_img/p1/p1.0017.png', './gits_img/p1/p1.0018.png', './gits_img/p1/p1.0019.png', './gits_img/p1/p1.0020.png', './gits_img/p1/p1.0021.png', './gits_img/p1/p1.0022.png', './gits_img/p1/p1.0023.png', './gits_img/p1/p1.0024.png', './gits_img/p1/p1.0025.png', './gits_img/p1/p1.0026.png', './gits_img/p1/p1.0027.png', './gits_img/p1/p1.0028.png', './gits_img/p1/p1.0029.png', './gits_img/p1/p1.0030.png', './gits_img/p1/p1.0031.png', './gits_img/p1/p1.0032.png', './gits_img/p1/p1.0033.png', './gits_img/p1/p1.0034.png', './gits_img/p1/p1.0035.png', './gits_img/p1/p1.0036.png', './gits_img/p1/p1.0037.png', './gits_img/p1/p1.0038.png', './gits_img/p1/p1.0039.png', './gits_img/p1/p1.0040.png', './gits_img/p1/p1.0041.png', './gits_img/p1/p1.0042.png', './gits_img/p1/p1.0043.png', './gits_img/p1/p1.0044.png', './gits_img/p1/p1.0045.png', './gits_img/p1/p1.0046.png', './gits_img/p1/p1.0047.png', './gits_img/p1/p1.0048.png', './gits_img/p1/p1.0049.png', './gits_img/p1/p1.0050.png', './gits_img/p1/p1.0051.png', './gits_img/p1/p1.0052.png', './gits_img/p1/p1.0053.png', './gits_img/p1/p1.0054.png', './gits_img/p1/p1.0055.png', './gits_img/p1/p1.0056.png', './gits_img/p1/p1.0057.png', './gits_img/p1/p1.0058.png', './gits_img/p1/p1.0059.png', './gits_img/p1/p1.0060.png', './gits_img/p1/p1.0061.png', './gits_img/p1/p1.0062.png', './gits_img/p1/p1.0063.png', './gits_img/p1/p1.0064.png', './gits_img/p1/p1.0065.png', './gits_img/p1/p1.0066.png', './gits_img/p1/p1.0067.png', './gits_img/p1/p1.0068.png', './gits_img/p1/p1.0069.png', './gits_img/p1/p1.0070.png', './gits_img/p1/p1.0071.png', './gits_img/p1/p1.0072.png', './gits_img/p1/p1.0073.png', './gits_img/p1/p1.0074.png', './gits_img/p1/p1.0075.png', './gits_img/p1/p1.0076.png', './gits_img/p1/p1.0077.png', './gits_img/p1/p1.0078.png', './gits_img/p1/p1.0079.png', './gits_img/p1/p1.0080.png', './gits_img/p1/p1.0081.png', './gits_img/p1/p1.0082.png', './gits_img/p1/p1.0083.png', './gits_img/p1/p1.0084.png', './gits_img/p1/p1.0085.png', './gits_img/p1/p1.0086.png', './gits_img/p1/p1.0087.png', './gits_img/p1/p1.0088.png', './gits_img/p1/p1.0089.png', './gits_img/p1/p1.0090.png', './gits_img/p1/p1.0091.png', './gits_img/p1/p1.0092.png', './gits_img/p1/p1.0093.png', './gits_img/p1/p1.0094.png', './gits_img/p1/p1.0095.png', './gits_img/p1/p1.0096.png', './gits_img/p1/p1.0097.png', './gits_img/p1/p1.0098.png', './gits_img/p1/p1.0099.png', './gits_img/p1/p1.0100.png', './gits_img/p1/p1.0101.png', './gits_img/p1/p1.0102.png', './gits_img/p1/p1.0103.png', './gits_img/p1/p1.0104.png', './gits_img/p1/p1.0105.png', './gits_img/p1/p1.0106.png', './gits_img/p1/p1.0107.png', './gits_img/p1/p1.0108.png', './gits_img/p1/p1.0109.png', './gits_img/p1/p1.0110.png', './gits_img/p1/p1.0111.png', './gits_img/p1/p1.0112.png', './gits_img/p1/p1.0113.png', './gits_img/p1/p1.0114.png', './gits_img/p1/p1.0115.png', './gits_img/p1/p1.0116.png', './gits_img/p1/p1.0117.png', './gits_img/p1/p1.0118.png', './gits_img/p1/p1.0119.png', './gits_img/p1/p1.0120.png', './gits_img/p1/p1.0121.png', './gits_img/p1/p1.0122.png', './gits_img/p1/p1.0123.png', './gits_img/p1/p1.0124.png', './gits_img/p1/p1.0125.png', './gits_img/p1/p1.0126.png', './gits_img/p1/p1.0127.png', './gits_img/p1/p1.0128.png', './gits_img/p1/p1.0129.png', './gits_img/p1/p1.0130.png', './gits_img/p1/p1.0131.png', './gits_img/p1/p1.0132.png', './gits_img/p1/p1.0133.png', './gits_img/p1/p1.0134.png', './gits_img/p1/p1.0135.png', './gits_img/p1/p1.0136.png', './gits_img/p1/p1.0137.png', './gits_img/p1/p1.0138.png', './gits_img/p1/p1.0139.png', './gits_img/p1/p1.0140.png', './gits_img/p1/p1.0141.png', './gits_img/p1/p1.0142.png', './gits_img/p1/p1.0143.png', './gits_img/p1/p1.0144.png', './gits_img/p1/p1.0145.png', './gits_img/p1/p1.0146.png', './gits_img/p1/p1.0147.png', './gits_img/p1/p1.0148.png', './gits_img/p1/p1.0149.png', './gits_img/p1/p1.0150.png', './gits_img/p1/p1.0151.png', './gits_img/p1/p1.0152.png', './gits_img/p1/p1.0153.png', './gits_img/p1/p1.0154.png', './gits_img/p1/p1.0155.png', './gits_img/p1/p1.0156.png', './gits_img/p1/p1.0157.png', './gits_img/p1/p1.0158.png', './gits_img/p1/p1.0159.png', './gits_img/p1/p1.0160.png', './gits_img/p1/p1.0161.png', './gits_img/p1/p1.0162.png', './gits_img/p1/p1.0163.png', './gits_img/p1/p1.0164.png', './gits_img/p1/p1.0165.png', './gits_img/p1/p1.0166.png', './gits_img/p1/p1.0167.png', './gits_img/p1/p1.0168.png', './gits_img/p1/p1.0169.png', './gits_img/p1/p1.0170.png', './gits_img/p1/p1.0171.png', './gits_img/p1/p1.0172.png', './gits_img/p1/p1.0173.png', './gits_img/p1/p1.0174.png', './gits_img/p1/p1.0175.png', './gits_img/p1/p1.0176.png', './gits_img/p1/p1.0177.png', './gits_img/p1/p1.0178.png', './gits_img/p1/p1.0179.png', './gits_img/p1/p1.0180.png', './gits_img/p1/p1.0181.png', './gits_img/p1/p1.0182.png', './gits_img/p1/p1.0183.png', './gits_img/p1/p1.0184.png', './gits_img/p1/p1.0185.png', './gits_img/p1/p1.0186.png', './gits_img/p1/p1.0187.png', './gits_img/p1/p1.0188.png', './gits_img/p1/p1.0189.png', './gits_img/p1/p1.0190.png', './gits_img/p1/p1.0191.png', './gits_img/p1/p1.0192.png', './gits_img/p1/p1.0193.png', './gits_img/p1/p1.0194.png', './gits_img/p1/p1.0195.png', './gits_img/p1/p1.0196.png', './gits_img/p1/p1.0197.png', './gits_img/p1/p1.0198.png', './gits_img/p1/p1.0199.png', './gits_img/p1/p1.0200.png', './gits_img/p1/p1.0201.png', './gits_img/p1/p1.0202.png', './gits_img/p1/p1.0203.png', './gits_img/p1/p1.0204.png', './gits_img/p1/p1.0205.png', './gits_img/p1/p1.0206.png', './gits_img/p1/p1.0207.png', './gits_img/p1/p1.0208.png', './gits_img/p1/p1.0209.png', './gits_img/p1/p1.0210.png', './gits_img/p1/p1.0211.png', './gits_img/p1/p1.0212.png', './gits_img/p1/p1.0213.png', './gits_img/p1/p1.0214.png', './gits_img/p1/p1.0215.png', './gits_img/p1/p1.0216.png', './gits_img/p1/p1.0217.png', './gits_img/p1/p1.0218.png', './gits_img/p1/p1.0219.png', './gits_img/p1/p1.0220.png', './gits_img/p1/p1.0221.png', './gits_img/p1/p1.0222.png', './gits_img/p1/p1.0223.png', './gits_img/p1/p1.0224.png', './gits_img/p1/p1.0225.png', './gits_img/p1/p1.0226.png', './gits_img/p1/p1.0227.png', './gits_img/p1/p1.0228.png', './gits_img/p1/p1.0229.png', './gits_img/p1/p1.0230.png', './gits_img/p1/p1.0231.png', './gits_img/p1/p1.0232.png', './gits_img/p1/p1.0233.png', './gits_img/p1/p1.0234.png', './gits_img/p1/p1.0235.png', './gits_img/p1/p1.0236.png', './gits_img/p1/p1.0237.png', './gits_img/p1/p1.0238.png', './gits_img/p1/p1.0239.png', './gits_img/p1/p1.0240.png', './gits_img/p1/p1.0241.png', './gits_img/p1/p1.0242.png', './gits_img/p1/p1.0243.png', './gits_img/p1/p1.0244.png', './gits_img/p1/p1.0245.png', './gits_img/p1/p1.0246.png', './gits_img/p1/p1.0247.png', './gits_img/p1/p1.0248.png', './gits_img/p1/p1.0249.png', './gits_img/p1/p1.0250.png', './gits_img/p1/p1.0251.png', './gits_img/p1/p1.0252.png', './gits_img/p1/p1.0253.png', './gits_img/p1/p1.0254.png', './gits_img/p1/p1.0255.png', './gits_img/p1/p1.0256.png', './gits_img/p1/p1.0257.png', './gits_img/p1/p1.0258.png', './gits_img/p1/p1.0259.png', './gits_img/p1/p1.0260.png', './gits_img/p1/p1.0261.png', './gits_img/p1/p1.0262.png', './gits_img/p1/p1.0263.png', './gits_img/p1/p1.0264.png', './gits_img/p1/p1.0265.png', './gits_img/p1/p1.0266.png', './gits_img/p1/p1.0267.png', './gits_img/p1/p1.0268.png', './gits_img/p1/p1.0269.png', './gits_img/p1/p1.0270.png', './gits_img/p1/p1.0271.png', './gits_img/p1/p1.0272.png', './gits_img/p1/p1.0273.png', './gits_img/p1/p1.0274.png', './gits_img/p1/p1.0275.png', './gits_img/p1/p1.0276.png', './gits_img/p1/p1.0277.png', './gits_img/p1/p1.0278.png', './gits_img/p1/p1.0279.png', './gits_img/p1/p1.0280.png', './gits_img/p1/p1.0281.png', './gits_img/p1/p1.0282.png', './gits_img/p1/p1.0283.png', './gits_img/p1/p1.0284.png', './gits_img/p1/p1.0285.png', './gits_img/p1/p1.0286.png', './gits_img/p1/p1.0287.png', './gits_img/p1/p1.0288.png', './gits_img/p1/p1.0289.png', './gits_img/p1/p1.0290.png', './gits_img/p1/p1.0291.png', './gits_img/p1/p1.0292.png', './gits_img/p1/p1.0293.png', './gits_img/p1/p1.0294.png', './gits_img/p1/p1.0295.png', './gits_img/p1/p1.0296.png', './gits_img/p1/p1.0297.png', './gits_img/p1/p1.0298.png', './gits_img/p1/p1.0299.png', './gits_img/p1/p1.0300.png', './gits_img/p1/p1.0301.png', './gits_img/p1/p1.0302.png', './gits_img/p1/p1.0303.png', './gits_img/p1/p1.0304.png', './gits_img/p1/p1.0305.png', './gits_img/p1/p1.0306.png', './gits_img/p1/p1.0307.png', './gits_img/p1/p1.0308.png', './gits_img/p1/p1.0309.png', './gits_img/p1/p1.0310.png', './gits_img/p1/p1.0311.png', './gits_img/p1/p1.0312.png', './gits_img/p1/p1.0313.png', './gits_img/p1/p1.0314.png', './gits_img/p1/p1.0315.png', './gits_img/p1/p1.0316.png', './gits_img/p1/p1.0317.png', './gits_img/p1/p1.0318.png', './gits_img/p1/p1.0319.png', './gits_img/p1/p1.0320.png', './gits_img/p1/p1.0321.png', './gits_img/p1/p1.0322.png', './gits_img/p1/p1.0323.png', './gits_img/p1/p1.0324.png', './gits_img/p1/p1.0325.png', './gits_img/p1/p1.0326.png', './gits_img/p1/p1.0327.png', './gits_img/p1/p1.0328.png', './gits_img/p1/p1.0329.png', './gits_img/p1/p1.0330.png', './gits_img/p1/p1.0331.png', './gits_img/p1/p1.0332.png', './gits_img/p1/p1.0333.png', './gits_img/p1/p1.0334.png', './gits_img/p1/p1.0335.png', './gits_img/p1/p1.0336.png', './gits_img/p1/p1.0337.png', './gits_img/p1/p1.0338.png', './gits_img/p1/p1.0339.png', './gits_img/p1/p1.0340.png', './gits_img/p1/p1.0341.png', './gits_img/p1/p1.0342.png', './gits_img/p1/p1.0343.png', './gits_img/p1/p1.0344.png', './gits_img/p1/p1.0345.png', './gits_img/p1/p1.0346.png', './gits_img/p1/p1.0347.png', './gits_img/p1/p1.0348.png', './gits_img/p1/p1.0349.png', './gits_img/p1/p1.0350.png', './gits_img/p1/p1.0351.png', './gits_img/p1/p1.0352.png', './gits_img/p1/p1.0353.png', './gits_img/p1/p1.0354.png', './gits_img/p1/p1.0355.png', './gits_img/p1/p1.0356.png', './gits_img/p1/p1.0357.png', './gits_img/p1/p1.0358.png', './gits_img/p1/p1.0359.png', './gits_img/p1/p1.0360.png', './gits_img/p1/p1.0361.png', './gits_img/p1/p1.0362.png', './gits_img/p1/p1.0363.png', './gits_img/p1/p1.0364.png', './gits_img/p1/p1.0365.png', './gits_img/p1/p1.0366.png', './gits_img/p1/p1.0367.png', './gits_img/p1/p1.0368.png', './gits_img/p1/p1.0369.png', './gits_img/p1/p1.0370.png', './gits_img/p1/p1.0371.png', './gits_img/p1/p1.0372.png', './gits_img/p1/p1.0373.png', './gits_img/p1/p1.0374.png', './gits_img/p1/p1.0375.png', './gits_img/p1/p1.0376.png', './gits_img/p1/p1.0377.png', './gits_img/p1/p1.0378.png', './gits_img/p1/p1.0379.png', './gits_img/p1/p1.0380.png', './gits_img/p1/p1.0381.png', './gits_img/p1/p1.0382.png', './gits_img/p1/p1.0383.png', './gits_img/p1/p1.0384.png', './gits_img/p1/p1.0385.png', './gits_img/p1/p1.0386.png', './gits_img/p1/p1.0387.png', './gits_img/p1/p1.0388.png', './gits_img/p1/p1.0389.png', './gits_img/p1/p1.0390.png', './gits_img/p1/p1.0391.png', './gits_img/p1/p1.0392.png', './gits_img/p1/p1.0393.png', './gits_img/p1/p1.0394.png', './gits_img/p1/p1.0395.png', './gits_img/p1/p1.0396.png', './gits_img/p1/p1.0397.png', './gits_img/p1/p1.0398.png', './gits_img/p1/p1.0399.png', './gits_img/p1/p1.0400.png', './gits_img/p1/p1.0401.png', './gits_img/p1/p1.0402.png', './gits_img/p1/p1.0403.png', './gits_img/p1/p1.0404.png', './gits_img/p1/p1.0405.png', './gits_img/p1/p1.0406.png', './gits_img/p1/p1.0407.png', './gits_img/p1/p1.0408.png', './gits_img/p1/p1.0409.png', './gits_img/p1/p1.0410.png', './gits_img/p1/p1.0411.png', './gits_img/p1/p1.0412.png', './gits_img/p1/p1.0413.png', './gits_img/p1/p1.0414.png', './gits_img/p1/p1.0415.png', './gits_img/p1/p1.0416.png', './gits_img/p1/p1.0417.png', './gits_img/p1/p1.0418.png', './gits_img/p1/p1.0419.png', './gits_img/p1/p1.0420.png', './gits_img/p1/p1.0421.png', './gits_img/p1/p1.0422.png', './gits_img/p1/p1.0423.png', './gits_img/p1/p1.0424.png', './gits_img/p1/p1.0425.png', './gits_img/p1/p1.0426.png', './gits_img/p1/p1.0427.png', './gits_img/p1/p1.0428.png', './gits_img/p1/p1.0429.png', './gits_img/p1/p1.0430.png', './gits_img/p1/p1.0431.png', './gits_img/p1/p1.0432.png', './gits_img/p1/p1.0433.png', './gits_img/p1/p1.0434.png', './gits_img/p1/p1.0435.png', './gits_img/p1/p1.0436.png', './gits_img/p1/p1.0437.png', './gits_img/p1/p1.0438.png', './gits_img/p1/p1.0439.png', './gits_img/p1/p1.0440.png', './gits_img/p1/p1.0441.png', './gits_img/p1/p1.0442.png', './gits_img/p1/p1.0443.png', './gits_img/p1/p1.0444.png', './gits_img/p1/p1.0445.png', './gits_img/p1/p1.0446.png', './gits_img/p1/p1.0447.png', './gits_img/p1/p1.0448.png', './gits_img/p1/p1.0449.png', './gits_img/p1/p1.0450.png', './gits_img/p1/p1.0451.png', './gits_img/p1/p1.0452.png', './gits_img/p1/p1.0453.png', './gits_img/p1/p1.0454.png', './gits_img/p1/p1.0455.png', './gits_img/p1/p1.0456.png', './gits_img/p1/p1.0457.png', './gits_img/p1/p1.0458.png', './gits_img/p1/p1.0459.png', './gits_img/p1/p1.0460.png', './gits_img/p1/p1.0461.png', './gits_img/p1/p1.0462.png', './gits_img/p1/p1.0463.png', './gits_img/p1/p1.0464.png', './gits_img/p1/p1.0465.png', './gits_img/p1/p1.0466.png', './gits_img/p1/p1.0467.png', './gits_img/p1/p1.0468.png', './gits_img/p1/p1.0469.png', './gits_img/p1/p1.0470.png', './gits_img/p1/p1.0471.png', './gits_img/p1/p1.0472.png', './gits_img/p1/p1.0473.png', './gits_img/p1/p1.0474.png', './gits_img/p1/p1.0475.png', './gits_img/p1/p1.0476.png', './gits_img/p1/p1.0477.png', './gits_img/p1/p1.0478.png', './gits_img/p1/p1.0479.png', './gits_img/p1/p1.0480.png', './gits_img/p1/p1.0481.png', './gits_img/p1/p1.0482.png', './gits_img/p1/p1.0483.png', './gits_img/p1/p1.0484.png', './gits_img/p1/p1.0485.png', './gits_img/p1/p1.0486.png', './gits_img/p1/p1.0487.png', './gits_img/p1/p1.0488.png', './gits_img/p1/p1.0489.png', './gits_img/p1/p1.0490.png', './gits_img/p1/p1.0491.png', './gits_img/p1/p1.0492.png', './gits_img/p1/p1.0493.png', './gits_img/p1/p1.0494.png', './gits_img/p1/p1.0495.png', './gits_img/p1/p1.0496.png', './gits_img/p1/p1.0497.png', './gits_img/p1/p1.0498.png', './gits_img/p1/p1.0499.png', './gits_img/p1/p1.0500.png', './gits_img/p1/p1.0501.png', './gits_img/p1/p1.0502.png', './gits_img/p1/p1.0503.png', './gits_img/p1/p1.0504.png', './gits_img/p1/p1.0505.png', './gits_img/p1/p1.0506.png', './gits_img/p1/p1.0507.png', './gits_img/p1/p1.0508.png', './gits_img/p1/p1.0509.png', './gits_img/p1/p1.0510.png', './gits_img/p1/p1.0511.png', './gits_img/p1/p1.0512.png', './gits_img/p1/p1.0513.png', './gits_img/p1/p1.0514.png', './gits_img/p1/p1.0515.png', './gits_img/p1/p1.0516.png', './gits_img/p1/p1.0517.png', './gits_img/p1/p1.0518.png', './gits_img/p1/p1.0519.png', './gits_img/p1/p1.0520.png', './gits_img/p1/p1.0521.png', './gits_img/p1/p1.0522.png', './gits_img/p1/p1.0523.png', './gits_img/p1/p1.0524.png', './gits_img/p1/p1.0525.png', './gits_img/p1/p1.0526.png', './gits_img/p1/p1.0527.png', './gits_img/p1/p1.0528.png', './gits_img/p1/p1.0529.png', './gits_img/p1/p1.0530.png', './gits_img/p1/p1.0531.png', './gits_img/p1/p1.0532.png', './gits_img/p1/p1.0533.png', './gits_img/p1/p1.0534.png', './gits_img/p1/p1.0535.png', './gits_img/p1/p1.0536.png', './gits_img/p1/p1.0537.png', './gits_img/p1/p1.0538.png', './gits_img/p1/p1.0539.png', './gits_img/p1/p1.0540.png', './gits_img/p1/p1.0541.png', './gits_img/p1/p1.0542.png', './gits_img/p1/p1.0543.png', './gits_img/p1/p1.0544.png', './gits_img/p1/p1.0545.png', './gits_img/p1/p1.0546.png', './gits_img/p1/p1.0547.png', './gits_img/p1/p1.0548.png', './gits_img/p1/p1.0549.png', './gits_img/p1/p1.0550.png', './gits_img/p1/p1.0551.png', './gits_img/p1/p1.0552.png', './gits_img/p1/p1.0553.png', './gits_img/p1/p1.0554.png', './gits_img/p1/p1.0555.png', './gits_img/p1/p1.0556.png', './gits_img/p1/p1.0557.png', './gits_img/p1/p1.0558.png', './gits_img/p1/p1.0559.png', './gits_img/p1/p1.0560.png', './gits_img/p1/p1.0561.png', './gits_img/p1/p1.0562.png', './gits_img/p1/p1.0563.png', './gits_img/p1/p1.0564.png', './gits_img/p1/p1.0565.png', './gits_img/p1/p1.0566.png', './gits_img/p1/p1.0567.png', './gits_img/p1/p1.0568.png', './gits_img/p1/p1.0569.png', './gits_img/p1/p1.0570.png', './gits_img/p1/p1.0571.png', './gits_img/p1/p1.0572.png', './gits_img/p1/p1.0573.png', './gits_img/p1/p1.0574.png', './gits_img/p1/p1.0575.png', './gits_img/p1/p1.0576.png', './gits_img/p1/p1.0577.png', './gits_img/p1/p1.0578.png', './gits_img/p1/p1.0579.png', './gits_img/p1/p1.0580.png', './gits_img/p1/p1.0581.png', './gits_img/p1/p1.0582.png', './gits_img/p1/p1.0583.png', './gits_img/p1/p1.0584.png', './gits_img/p1/p1.0585.png', './gits_img/p1/p1.0586.png', './gits_img/p1/p1.0587.png', './gits_img/p1/p1.0588.png', './gits_img/p1/p1.0589.png', './gits_img/p1/p1.0590.png', './gits_img/p1/p1.0591.png', './gits_img/p1/p1.0592.png', './gits_img/p1/p1.0593.png', './gits_img/p1/p1.0594.png', './gits_img/p1/p1.0595.png', './gits_img/p1/p1.0596.png', './gits_img/p1/p1.0597.png', './gits_img/p1/p1.0598.png', './gits_img/p1/p1.0599.png', './gits_img/p1/p1.0600.png', './gits_img/p1/p1.0601.png', './gits_img/p1/p1.0602.png', './gits_img/p1/p1.0603.png', './gits_img/p1/p1.0604.png', './gits_img/p1/p1.0605.png', './gits_img/p1/p1.0606.png', './gits_img/p1/p1.0607.png', './gits_img/p1/p1.0608.png', './gits_img/p1/p1.0609.png', './gits_img/p1/p1.0610.png', './gits_img/p1/p1.0611.png', './gits_img/p1/p1.0612.png', './gits_img/p1/p1.0613.png', './gits_img/p1/p1.0614.png', './gits_img/p1/p1.0615.png', './gits_img/p1/p1.0616.png', './gits_img/p1/p1.0617.png', './gits_img/p1/p1.0618.png', './gits_img/p1/p1.0619.png', './gits_img/p1/p1.0620.png', './gits_img/p1/p1.0621.png', './gits_img/p1/p1.0622.png', './gits_img/p1/p1.0623.png', './gits_img/p1/p1.0624.png', './gits_img/p1/p1.0625.png', './gits_img/p1/p1.0626.png', './gits_img/p1/p1.0627.png', './gits_img/p1/p1.0628.png', './gits_img/p1/p1.0629.png', './gits_img/p1/p1.0630.png', './gits_img/p1/p1.0631.png', './gits_img/p1/p1.0632.png', './gits_img/p1/p1.0633.png', './gits_img/p1/p1.0634.png', './gits_img/p1/p1.0635.png', './gits_img/p1/p1.0636.png', './gits_img/p1/p1.0637.png', './gits_img/p1/p1.0638.png', './gits_img/p1/p1.0639.png', './gits_img/p1/p1.0640.png', './gits_img/p1/p1.0641.png', './gits_img/p1/p1.0642.png', './gits_img/p1/p1.0643.png', './gits_img/p1/p1.0644.png', './gits_img/p1/p1.0645.png', './gits_img/p1/p1.0646.png', './gits_img/p1/p1.0647.png', './gits_img/p1/p1.0648.png', './gits_img/p1/p1.0649.png', './gits_img/p1/p1.0650.png', './gits_img/p1/p1.0651.png', './gits_img/p1/p1.0652.png', './gits_img/p1/p1.0653.png', './gits_img/p1/p1.0654.png', './gits_img/p1/p1.0655.png', './gits_img/p1/p1.0656.png', './gits_img/p1/p1.0657.png', './gits_img/p1/p1.0658.png', './gits_img/p1/p1.0659.png', './gits_img/p1/p1.0660.png', './gits_img/p1/p1.0661.png', './gits_img/p1/p1.0662.png', './gits_img/p1/p1.0663.png', './gits_img/p1/p1.0664.png', './gits_img/p1/p1.0665.png', './gits_img/p1/p1.0666.png', './gits_img/p1/p1.0667.png', './gits_img/p1/p1.0668.png', './gits_img/p1/p1.0669.png', './gits_img/p1/p1.0670.png', './gits_img/p1/p1.0671.png', './gits_img/p1/p1.0672.png', './gits_img/p1/p1.0673.png', './gits_img/p1/p1.0674.png', './gits_img/p1/p1.0675.png', './gits_img/p1/p1.0676.png', './gits_img/p1/p1.0677.png', './gits_img/p1/p1.0678.png', './gits_img/p1/p1.0679.png', './gits_img/p1/p1.0680.png', './gits_img/p1/p1.0681.png', './gits_img/p1/p1.0682.png', './gits_img/p1/p1.0683.png', './gits_img/p1/p1.0684.png', './gits_img/p1/p1.0685.png', './gits_img/p1/p1.0686.png', './gits_img/p1/p1.0687.png', './gits_img/p1/p1.0688.png', './gits_img/p1/p1.0689.png', './gits_img/p1/p1.0690.png', './gits_img/p1/p1.0691.png', './gits_img/p1/p1.0692.png', './gits_img/p1/p1.0693.png', './gits_img/p1/p1.0694.png', './gits_img/p1/p1.0695.png', './gits_img/p1/p1.0696.png', './gits_img/p1/p1.0697.png', './gits_img/p1/p1.0698.png', './gits_img/p1/p1.0699.png', './gits_img/p1/p1.0700.png', './gits_img/p1/p1.0701.png', './gits_img/p1/p1.0702.png', './gits_img/p1/p1.0703.png', './gits_img/p1/p1.0704.png', './gits_img/p1/p1.0705.png', './gits_img/p1/p1.0706.png', './gits_img/p1/p1.0707.png', './gits_img/p1/p1.0708.png', './gits_img/p1/p1.0709.png', './gits_img/p1/p1.0710.png', './gits_img/p1/p1.0711.png', './gits_img/p1/p1.0712.png', './gits_img/p1/p1.0713.png', './gits_img/p1/p1.0714.png', './gits_img/p1/p1.0715.png', './gits_img/p1/p1.0716.png', './gits_img/p1/p1.0717.png', './gits_img/p1/p1.0718.png', './gits_img/p1/p1.0719.png', './gits_img/p1/p1.0720.png', './gits_img/p1/p1.0721.png', './gits_img/p1/p1.0722.png', './gits_img/p1/p1.0723.png', './gits_img/p1/p1.0724.png', './gits_img/p1/p1.0725.png', './gits_img/p1/p1.0726.png', './gits_img/p1/p1.0727.png', './gits_img/p1/p1.0728.png', './gits_img/p1/p1.0729.png', './gits_img/p1/p1.0730.png', './gits_img/p1/p1.0731.png', './gits_img/p1/p1.0732.png', './gits_img/p1/p1.0733.png', './gits_img/p1/p1.0734.png', './gits_img/p1/p1.0735.png', './gits_img/p1/p1.0736.png', './gits_img/p1/p1.0737.png', './gits_img/p1/p1.0738.png', './gits_img/p1/p1.0739.png', './gits_img/p1/p1.0740.png', './gits_img/p1/p1.0741.png', './gits_img/p1/p1.0742.png', './gits_img/p1/p1.0743.png', './gits_img/p1/p1.0744.png', './gits_img/p1/p1.0745.png', './gits_img/p1/p1.0746.png', './gits_img/p1/p1.0747.png', './gits_img/p1/p1.0748.png', './gits_img/p1/p1.0749.png', './gits_img/p1/p1.0750.png', './gits_img/p1/p1.0751.png', './gits_img/p1/p1.0752.png', './gits_img/p1/p1.0753.png', './gits_img/p1/p1.0754.png', './gits_img/p1/p1.0755.png', './gits_img/p1/p1.0756.png', './gits_img/p1/p1.0757.png', './gits_img/p1/p1.0758.png', './gits_img/p1/p1.0759.png', './gits_img/p1/p1.0760.png', './gits_img/p1/p1.0761.png', './gits_img/p1/p1.0762.png', './gits_img/p1/p1.0763.png', './gits_img/p1/p1.0764.png', './gits_img/p1/p1.0765.png', './gits_img/p1/p1.0766.png', './gits_img/p1/p1.0767.png', './gits_img/p1/p1.0768.png', './gits_img/p1/p1.0769.png', './gits_img/p1/p1.0770.png', './gits_img/p1/p1.0771.png', './gits_img/p1/p1.0772.png', './gits_img/p1/p1.0773.png', './gits_img/p1/p1.0774.png', './gits_img/p1/p1.0775.png', './gits_img/p1/p1.0776.png', './gits_img/p1/p1.0777.png', './gits_img/p1/p1.0778.png', './gits_img/p1/p1.0779.png', './gits_img/p1/p1.0780.png', './gits_img/p1/p1.0781.png', './gits_img/p1/p1.0782.png', './gits_img/p1/p1.0783.png', './gits_img/p1/p1.0784.png', './gits_img/p1/p1.0785.png', './gits_img/p1/p1.0786.png', './gits_img/p1/p1.0787.png', './gits_img/p1/p1.0788.png', './gits_img/p1/p1.0789.png', './gits_img/p1/p1.0790.png', './gits_img/p1/p1.0791.png', './gits_img/p1/p1.0792.png', './gits_img/p1/p1.0793.png', './gits_img/p1/p1.0794.png', './gits_img/p1/p1.0795.png', './gits_img/p1/p1.0796.png', './gits_img/p1/p1.0797.png', './gits_img/p1/p1.0798.png', './gits_img/p1/p1.0799.png', './gits_img/p1/p1.0800.png', './gits_img/p1/p1.0801.png', './gits_img/p1/p1.0802.png']\n",
      "<class 'list'>\n",
      "803\n"
     ]
    },
    {
     "name": "stdout",
     "output_type": "stream",
     "text": [
      "GIF created successfully!\n"
     ]
    }
   ],
   "source": [
    "from PIL import Image\n",
    "import glob\n",
    "\n",
    "# Define the path pattern to your images\n",
    "image_folder = \"./gits_img/p1/\"\n",
    "image_pattern = image_folder + \"*.png\"  # Assuming the images are in PNG format\n",
    "\n",
    "# Get the list of image file paths\n",
    "image_files = sorted(glob.glob(image_pattern))\n",
    "print(image_files)\n",
    "\n",
    "# Calculate the duration of each frame in milliseconds\n",
    "total_duration = 38  # in seconds\n",
    "frame_count = 801\n",
    "frame_duration = (total_duration / frame_count) * 1000  # in milliseconds\n",
    "\n",
    "# Open the images\n",
    "images = [Image.open(image) for image in image_files]\n",
    "print(type(images))\n",
    "print(len(images))\n",
    "# Save as GIF\n",
    "gif_path = \"./gift/p1.gif\"\n",
    "images[0].save(gif_path, save_all=True, append_images=images[1:], duration=frame_duration, loop=0)\n",
    "\n",
    "print(\"GIF created successfully!\")"
   ]
  },
  {
   "cell_type": "markdown",
   "id": "2f047be3",
   "metadata": {},
   "source": [
    "# Create Gif"
   ]
  },
  {
   "cell_type": "code",
   "execution_count": 55,
   "id": "a24efb9f",
   "metadata": {},
   "outputs": [
    {
     "name": "stdout",
     "output_type": "stream",
     "text": [
      "149.14285714285714\n"
     ]
    }
   ],
   "source": [
    "from PIL import Image\n",
    "import glob\n",
    "\n",
    "# Define the path pattern to your images\n",
    "image_folder = \"./gift_609/\"\n",
    "image_pattern = image_folder + \"*.png\"  # Assuming the images are in PNG format\n",
    "\n",
    "# Get the list of image file paths\n",
    "image_files = sorted(glob.glob(image_pattern))\n",
    "\n",
    "# Calculate the duration of each frame in milliseconds\n",
    "total_duration_ms = 26.1 * 1000  # 26.1 seconds to milliseconds\n",
    "num_frames = len(image_files)\n",
    "\n",
    "\n",
    "frame_duration = total_duration_ms / num_frames\n",
    "print(frame_duration)\n",
    "frame_duration=150\n",
    "images = [Image.open(image_file) for image_file in image_files]\n",
    "gif_path = \"./output_609.gif\"\n",
    "\n",
    "# Save the images as a GIF\n",
    "images[0].save(\n",
    "    gif_path,\n",
    "    save_all=True,\n",
    "    append_images=images[1:],\n",
    "    duration=frame_duration,\n",
    "    loop=0\n",
    ")"
   ]
  },
  {
   "cell_type": "code",
   "execution_count": null,
   "id": "2dd2b862",
   "metadata": {},
   "outputs": [],
   "source": []
  },
  {
   "cell_type": "code",
   "execution_count": null,
   "id": "6f540f30",
   "metadata": {},
   "outputs": [],
   "source": []
  },
  {
   "cell_type": "code",
   "execution_count": null,
   "id": "5f1a7411",
   "metadata": {},
   "outputs": [],
   "source": []
  },
  {
   "cell_type": "code",
   "execution_count": null,
   "id": "d41c5101",
   "metadata": {},
   "outputs": [],
   "source": []
  },
  {
   "cell_type": "code",
   "execution_count": 44,
   "id": "2f59e305",
   "metadata": {},
   "outputs": [],
   "source": [
    "from PIL import Image\n",
    "\n",
    "# Path to the GIF file\n",
    "gif_path = \"./output_test.gif\"\n",
    "\n",
    "# Open the GIF file\n",
    "gif = Image.open(gif_path)\n",
    "\n",
    "# Count the number of frames in the GIF\n",
    "frame_count = gif.n_frames\n",
    "\n",
    "# Calculate the total duration of the GIF\n",
    "total_duration = 0\n",
    "for frame in range(frame_count):\n",
    "    gif.seek(frame)\n",
    "    frame_duration = gif.info['duration']  # duration of the current frame in milliseconds\n",
    "    total_duration += frame_duration\n",
    "\n",
    "# Convert total duration from milliseconds to seconds\n",
    "total_duration_seconds = total_duration / 1000"
   ]
  },
  {
   "cell_type": "code",
   "execution_count": 45,
   "id": "dd97fe0e",
   "metadata": {},
   "outputs": [
    {
     "data": {
      "text/plain": [
       "26.25"
      ]
     },
     "execution_count": 45,
     "metadata": {},
     "output_type": "execute_result"
    }
   ],
   "source": [
    "total_duration_seconds"
   ]
  },
  {
   "cell_type": "code",
   "execution_count": 13,
   "id": "96bfe340",
   "metadata": {},
   "outputs": [
    {
     "data": {
      "text/plain": [
       "91"
      ]
     },
     "execution_count": 13,
     "metadata": {},
     "output_type": "execute_result"
    }
   ],
   "source": [
    "gif = Image.open(gif_path)\n",
    "\n",
    "# Count the number of frames in the GIF\n",
    "frame_count = gif.n_frames\n",
    "\n",
    "frame_count"
   ]
  },
  {
   "cell_type": "code",
   "execution_count": null,
   "id": "d8fb94fd",
   "metadata": {},
   "outputs": [],
   "source": []
  }
 ],
 "metadata": {
  "kernelspec": {
   "display_name": "Python 3 (ipykernel)",
   "language": "python",
   "name": "python3"
  },
  "language_info": {
   "codemirror_mode": {
    "name": "ipython",
    "version": 3
   },
   "file_extension": ".py",
   "mimetype": "text/x-python",
   "name": "python",
   "nbconvert_exporter": "python",
   "pygments_lexer": "ipython3",
   "version": "3.9.7"
  }
 },
 "nbformat": 4,
 "nbformat_minor": 5
}
