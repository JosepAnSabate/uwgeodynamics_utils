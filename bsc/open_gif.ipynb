{
 "cells": [
  {
   "cell_type": "markdown",
   "id": "f7dc1d21",
   "metadata": {},
   "source": [
    "# Gif Duration"
   ]
  },
  {
   "cell_type": "markdown",
   "id": "e3ae6e10",
   "metadata": {},
   "source": [
    "## File -> Save animations "
   ]
  },
  {
   "cell_type": "markdown",
   "id": "ed863888",
   "metadata": {},
   "source": [
    "## Create a gift weight reduced"
   ]
  },
  {
   "cell_type": "code",
   "execution_count": 29,
   "id": "9d275092",
   "metadata": {
    "scrolled": true
   },
   "outputs": [
    {
     "name": "stdout",
     "output_type": "stream",
     "text": [
      "Total frames before reduction: 711\n",
      "Total frames after reduction: 143\n",
      "GIF created successfully with reduced frames!\n"
     ]
    }
   ],
   "source": [
    "from PIL import Image\n",
    "import glob\n",
    "\n",
    "# Define the path pattern to your images\n",
    "image_folder = \"./video_p/p8/\"\n",
    "image_pattern = image_folder + \"*.png\"  # Assuming the images are in PNG format\n",
    "\n",
    "# Get the list of image file paths\n",
    "image_files = sorted(glob.glob(image_pattern))\n",
    "print(f\"Total frames before reduction: {len(image_files)}\")\n",
    "\n",
    "# Skip every n frames (e.g., keep every 3rd frame)\n",
    "n = 5  # Adjust this value to reduce frames\n",
    "reduced_image_files = image_files[::n]\n",
    "print(f\"Total frames after reduction: {len(reduced_image_files)}\")\n",
    "\n",
    "# Calculate the new frame duration to maintain the same total duration\n",
    "total_duration = 64  # in seconds\n",
    "frame_count = len(reduced_image_files)\n",
    "frame_duration = (total_duration / frame_count) * 1000  # in milliseconds\n",
    "\n",
    "# Open the reduced images\n",
    "images = [Image.open(image) for image in reduced_image_files]\n",
    "\n",
    "# Save as GIF\n",
    "gif_path = \"./gift_p/p8_reduced.gif\"\n",
    "images[0].save(gif_path, save_all=True, append_images=images[1:], duration=frame_duration, loop=0)\n",
    "\n",
    "print(\"GIF created successfully with reduced frames!\")\n"
   ]
  },
  {
   "cell_type": "markdown",
   "id": "7f401883",
   "metadata": {},
   "source": [
    "## Duration"
   ]
  },
  {
   "cell_type": "code",
   "execution_count": 12,
   "id": "ed0f7327",
   "metadata": {},
   "outputs": [],
   "source": [
    "from PIL import Image\n",
    "\n",
    "# Path to the GIF file\n",
    "gif_path = \"./gift/p1_reduced.gif\"\n",
    "\n",
    "# Open the GIF file\n",
    "gif = Image.open(gif_path)\n",
    "\n",
    "# Count the number of frames in the GIF\n",
    "frame_count = gif.n_frames\n",
    "\n",
    "# Calculate the total duration of the GIF\n",
    "total_duration = 0\n",
    "for frame in range(frame_count):\n",
    "    gif.seek(frame)\n",
    "    frame_duration = gif.info['duration']  # duration of the current frame in milliseconds\n",
    "    total_duration += frame_duration\n",
    "\n",
    "# Convert total duration from milliseconds to seconds\n",
    "total_duration_seconds = total_duration / 1000"
   ]
  },
  {
   "cell_type": "code",
   "execution_count": 13,
   "id": "ddde716b",
   "metadata": {},
   "outputs": [
    {
     "data": {
      "text/plain": [
       "63.99"
      ]
     },
     "execution_count": 13,
     "metadata": {},
     "output_type": "execute_result"
    }
   ],
   "source": [
    "total_duration_seconds"
   ]
  },
  {
   "cell_type": "markdown",
   "id": "57535e01",
   "metadata": {},
   "source": [
    "# Count Frames"
   ]
  },
  {
   "cell_type": "code",
   "execution_count": 7,
   "id": "17e594c1",
   "metadata": {
    "scrolled": true
   },
   "outputs": [
    {
     "data": {
      "text/plain": [
       "446"
      ]
     },
     "execution_count": 7,
     "metadata": {},
     "output_type": "execute_result"
    }
   ],
   "source": [
    "gif = Image.open(gif_path)\n",
    "\n",
    "# Count the number of frames in the GIF\n",
    "frame_count = gif.n_frames\n",
    "\n",
    "frame_count"
   ]
  },
  {
   "cell_type": "code",
   "execution_count": 8,
   "id": "f09e11df",
   "metadata": {},
   "outputs": [
    {
     "data": {
      "text/plain": [
       "0.3"
      ]
     },
     "execution_count": 8,
     "metadata": {},
     "output_type": "execute_result"
    }
   ],
   "source": [
    "26.1/87"
   ]
  },
  {
   "cell_type": "markdown",
   "id": "9a314657",
   "metadata": {},
   "source": [
    "# Create Gif"
   ]
  },
  {
   "cell_type": "code",
   "execution_count": 4,
   "id": "d81d7436",
   "metadata": {},
   "outputs": [
    {
     "name": "stdout",
     "output_type": "stream",
     "text": [
      "['./video/p1/video.0000.png', './video/p1/video.0001.png', './video/p1/video.0002.png', './video/p1/video.0003.png', './video/p1/video.0004.png', './video/p1/video.0005.png', './video/p1/video.0006.png', './video/p1/video.0007.png', './video/p1/video.0008.png', './video/p1/video.0009.png', './video/p1/video.0010.png', './video/p1/video.0011.png', './video/p1/video.0012.png', './video/p1/video.0013.png', './video/p1/video.0014.png', './video/p1/video.0015.png', './video/p1/video.0016.png', './video/p1/video.0017.png', './video/p1/video.0018.png', './video/p1/video.0019.png', './video/p1/video.0020.png', './video/p1/video.0021.png', './video/p1/video.0022.png', './video/p1/video.0023.png', './video/p1/video.0024.png', './video/p1/video.0025.png', './video/p1/video.0026.png', './video/p1/video.0027.png', './video/p1/video.0028.png', './video/p1/video.0029.png', './video/p1/video.0030.png', './video/p1/video.0031.png', './video/p1/video.0032.png', './video/p1/video.0033.png', './video/p1/video.0034.png', './video/p1/video.0035.png', './video/p1/video.0036.png', './video/p1/video.0037.png', './video/p1/video.0038.png', './video/p1/video.0039.png', './video/p1/video.0040.png', './video/p1/video.0041.png', './video/p1/video.0042.png', './video/p1/video.0043.png', './video/p1/video.0044.png', './video/p1/video.0045.png', './video/p1/video.0046.png', './video/p1/video.0047.png', './video/p1/video.0048.png', './video/p1/video.0049.png', './video/p1/video.0050.png', './video/p1/video.0051.png', './video/p1/video.0052.png', './video/p1/video.0053.png', './video/p1/video.0054.png', './video/p1/video.0055.png', './video/p1/video.0056.png', './video/p1/video.0057.png', './video/p1/video.0058.png', './video/p1/video.0059.png', './video/p1/video.0060.png', './video/p1/video.0061.png', './video/p1/video.0062.png', './video/p1/video.0063.png', './video/p1/video.0064.png', './video/p1/video.0065.png', './video/p1/video.0066.png', './video/p1/video.0067.png', './video/p1/video.0068.png', './video/p1/video.0069.png', './video/p1/video.0070.png', './video/p1/video.0071.png', './video/p1/video.0072.png', './video/p1/video.0073.png', './video/p1/video.0074.png', './video/p1/video.0075.png', './video/p1/video.0076.png', './video/p1/video.0077.png', './video/p1/video.0078.png', './video/p1/video.0079.png', './video/p1/video.0080.png', './video/p1/video.0081.png', './video/p1/video.0082.png', './video/p1/video.0083.png', './video/p1/video.0084.png', './video/p1/video.0085.png', './video/p1/video.0086.png', './video/p1/video.0087.png', './video/p1/video.0088.png', './video/p1/video.0089.png', './video/p1/video.0090.png', './video/p1/video.0091.png', './video/p1/video.0092.png', './video/p1/video.0093.png', './video/p1/video.0094.png', './video/p1/video.0095.png', './video/p1/video.0096.png', './video/p1/video.0097.png', './video/p1/video.0098.png', './video/p1/video.0099.png', './video/p1/video.0100.png', './video/p1/video.0101.png', './video/p1/video.0102.png', './video/p1/video.0103.png', './video/p1/video.0104.png', './video/p1/video.0105.png', './video/p1/video.0106.png', './video/p1/video.0107.png', './video/p1/video.0108.png', './video/p1/video.0109.png', './video/p1/video.0110.png', './video/p1/video.0111.png', './video/p1/video.0112.png', './video/p1/video.0113.png', './video/p1/video.0114.png', './video/p1/video.0115.png', './video/p1/video.0116.png', './video/p1/video.0117.png', './video/p1/video.0118.png', './video/p1/video.0119.png', './video/p1/video.0120.png', './video/p1/video.0121.png', './video/p1/video.0122.png', './video/p1/video.0123.png', './video/p1/video.0124.png', './video/p1/video.0125.png', './video/p1/video.0126.png', './video/p1/video.0127.png', './video/p1/video.0128.png', './video/p1/video.0129.png', './video/p1/video.0130.png', './video/p1/video.0131.png', './video/p1/video.0132.png', './video/p1/video.0133.png', './video/p1/video.0134.png', './video/p1/video.0135.png', './video/p1/video.0136.png', './video/p1/video.0137.png', './video/p1/video.0138.png', './video/p1/video.0139.png', './video/p1/video.0140.png', './video/p1/video.0141.png', './video/p1/video.0142.png', './video/p1/video.0143.png', './video/p1/video.0144.png', './video/p1/video.0145.png', './video/p1/video.0146.png', './video/p1/video.0147.png', './video/p1/video.0148.png', './video/p1/video.0149.png', './video/p1/video.0150.png', './video/p1/video.0151.png', './video/p1/video.0152.png', './video/p1/video.0153.png', './video/p1/video.0154.png', './video/p1/video.0155.png', './video/p1/video.0156.png', './video/p1/video.0157.png', './video/p1/video.0158.png', './video/p1/video.0159.png', './video/p1/video.0160.png', './video/p1/video.0161.png', './video/p1/video.0162.png', './video/p1/video.0163.png', './video/p1/video.0164.png', './video/p1/video.0165.png', './video/p1/video.0166.png', './video/p1/video.0167.png', './video/p1/video.0168.png', './video/p1/video.0169.png', './video/p1/video.0170.png', './video/p1/video.0171.png', './video/p1/video.0172.png', './video/p1/video.0173.png', './video/p1/video.0174.png', './video/p1/video.0175.png', './video/p1/video.0176.png', './video/p1/video.0177.png', './video/p1/video.0178.png', './video/p1/video.0179.png', './video/p1/video.0180.png', './video/p1/video.0181.png', './video/p1/video.0182.png', './video/p1/video.0183.png', './video/p1/video.0184.png', './video/p1/video.0185.png', './video/p1/video.0186.png', './video/p1/video.0187.png', './video/p1/video.0188.png', './video/p1/video.0189.png', './video/p1/video.0190.png', './video/p1/video.0191.png', './video/p1/video.0192.png', './video/p1/video.0193.png', './video/p1/video.0194.png', './video/p1/video.0195.png', './video/p1/video.0196.png', './video/p1/video.0197.png', './video/p1/video.0198.png', './video/p1/video.0199.png', './video/p1/video.0200.png', './video/p1/video.0201.png', './video/p1/video.0202.png', './video/p1/video.0203.png', './video/p1/video.0204.png', './video/p1/video.0205.png', './video/p1/video.0206.png', './video/p1/video.0207.png', './video/p1/video.0208.png', './video/p1/video.0209.png', './video/p1/video.0210.png', './video/p1/video.0211.png', './video/p1/video.0212.png', './video/p1/video.0213.png', './video/p1/video.0214.png', './video/p1/video.0215.png', './video/p1/video.0216.png', './video/p1/video.0217.png', './video/p1/video.0218.png', './video/p1/video.0219.png', './video/p1/video.0220.png', './video/p1/video.0221.png', './video/p1/video.0222.png', './video/p1/video.0223.png', './video/p1/video.0224.png', './video/p1/video.0225.png', './video/p1/video.0226.png', './video/p1/video.0227.png', './video/p1/video.0228.png', './video/p1/video.0229.png', './video/p1/video.0230.png', './video/p1/video.0231.png', './video/p1/video.0232.png', './video/p1/video.0233.png', './video/p1/video.0234.png', './video/p1/video.0235.png', './video/p1/video.0236.png', './video/p1/video.0237.png', './video/p1/video.0238.png', './video/p1/video.0239.png', './video/p1/video.0240.png', './video/p1/video.0241.png', './video/p1/video.0242.png', './video/p1/video.0243.png', './video/p1/video.0244.png', './video/p1/video.0245.png', './video/p1/video.0246.png', './video/p1/video.0247.png', './video/p1/video.0248.png', './video/p1/video.0249.png', './video/p1/video.0250.png', './video/p1/video.0251.png', './video/p1/video.0252.png', './video/p1/video.0253.png', './video/p1/video.0254.png', './video/p1/video.0255.png', './video/p1/video.0256.png', './video/p1/video.0257.png', './video/p1/video.0258.png', './video/p1/video.0259.png', './video/p1/video.0260.png', './video/p1/video.0261.png', './video/p1/video.0262.png', './video/p1/video.0263.png', './video/p1/video.0264.png', './video/p1/video.0265.png', './video/p1/video.0266.png', './video/p1/video.0267.png', './video/p1/video.0268.png', './video/p1/video.0269.png', './video/p1/video.0270.png', './video/p1/video.0271.png', './video/p1/video.0272.png', './video/p1/video.0273.png', './video/p1/video.0274.png', './video/p1/video.0275.png', './video/p1/video.0276.png', './video/p1/video.0277.png', './video/p1/video.0278.png', './video/p1/video.0279.png', './video/p1/video.0280.png', './video/p1/video.0281.png', './video/p1/video.0282.png', './video/p1/video.0283.png', './video/p1/video.0284.png', './video/p1/video.0285.png', './video/p1/video.0286.png', './video/p1/video.0287.png', './video/p1/video.0288.png', './video/p1/video.0289.png', './video/p1/video.0290.png', './video/p1/video.0291.png', './video/p1/video.0292.png', './video/p1/video.0293.png', './video/p1/video.0294.png', './video/p1/video.0295.png', './video/p1/video.0296.png', './video/p1/video.0297.png', './video/p1/video.0298.png', './video/p1/video.0299.png', './video/p1/video.0300.png', './video/p1/video.0301.png', './video/p1/video.0302.png', './video/p1/video.0303.png', './video/p1/video.0304.png', './video/p1/video.0305.png', './video/p1/video.0306.png', './video/p1/video.0307.png', './video/p1/video.0308.png', './video/p1/video.0309.png', './video/p1/video.0310.png', './video/p1/video.0311.png', './video/p1/video.0312.png', './video/p1/video.0313.png', './video/p1/video.0314.png', './video/p1/video.0315.png', './video/p1/video.0316.png', './video/p1/video.0317.png', './video/p1/video.0318.png', './video/p1/video.0319.png', './video/p1/video.0320.png', './video/p1/video.0321.png', './video/p1/video.0322.png', './video/p1/video.0323.png', './video/p1/video.0324.png', './video/p1/video.0325.png', './video/p1/video.0326.png', './video/p1/video.0327.png', './video/p1/video.0328.png', './video/p1/video.0329.png', './video/p1/video.0330.png', './video/p1/video.0331.png', './video/p1/video.0332.png', './video/p1/video.0333.png', './video/p1/video.0334.png', './video/p1/video.0335.png', './video/p1/video.0336.png', './video/p1/video.0337.png', './video/p1/video.0338.png', './video/p1/video.0339.png', './video/p1/video.0340.png', './video/p1/video.0341.png', './video/p1/video.0342.png', './video/p1/video.0343.png', './video/p1/video.0344.png', './video/p1/video.0345.png', './video/p1/video.0346.png', './video/p1/video.0347.png', './video/p1/video.0348.png', './video/p1/video.0349.png', './video/p1/video.0350.png', './video/p1/video.0351.png', './video/p1/video.0352.png', './video/p1/video.0353.png', './video/p1/video.0354.png', './video/p1/video.0355.png', './video/p1/video.0356.png', './video/p1/video.0357.png', './video/p1/video.0358.png', './video/p1/video.0359.png', './video/p1/video.0360.png', './video/p1/video.0361.png', './video/p1/video.0362.png', './video/p1/video.0363.png', './video/p1/video.0364.png', './video/p1/video.0365.png', './video/p1/video.0366.png', './video/p1/video.0367.png', './video/p1/video.0368.png', './video/p1/video.0369.png', './video/p1/video.0370.png', './video/p1/video.0371.png', './video/p1/video.0372.png', './video/p1/video.0373.png', './video/p1/video.0374.png', './video/p1/video.0375.png', './video/p1/video.0376.png', './video/p1/video.0377.png', './video/p1/video.0378.png', './video/p1/video.0379.png', './video/p1/video.0380.png', './video/p1/video.0381.png', './video/p1/video.0382.png', './video/p1/video.0383.png', './video/p1/video.0384.png', './video/p1/video.0385.png', './video/p1/video.0386.png', './video/p1/video.0387.png', './video/p1/video.0388.png', './video/p1/video.0389.png', './video/p1/video.0390.png', './video/p1/video.0391.png', './video/p1/video.0392.png', './video/p1/video.0393.png', './video/p1/video.0394.png', './video/p1/video.0395.png', './video/p1/video.0396.png', './video/p1/video.0397.png', './video/p1/video.0398.png', './video/p1/video.0399.png', './video/p1/video.0400.png', './video/p1/video.0401.png', './video/p1/video.0402.png', './video/p1/video.0403.png', './video/p1/video.0404.png', './video/p1/video.0405.png', './video/p1/video.0406.png', './video/p1/video.0407.png', './video/p1/video.0408.png', './video/p1/video.0409.png', './video/p1/video.0410.png', './video/p1/video.0411.png', './video/p1/video.0412.png', './video/p1/video.0413.png', './video/p1/video.0414.png', './video/p1/video.0415.png', './video/p1/video.0416.png', './video/p1/video.0417.png', './video/p1/video.0418.png', './video/p1/video.0419.png', './video/p1/video.0420.png', './video/p1/video.0421.png', './video/p1/video.0422.png', './video/p1/video.0423.png', './video/p1/video.0424.png', './video/p1/video.0425.png', './video/p1/video.0426.png', './video/p1/video.0427.png', './video/p1/video.0428.png', './video/p1/video.0429.png', './video/p1/video.0430.png', './video/p1/video.0431.png', './video/p1/video.0432.png', './video/p1/video.0433.png', './video/p1/video.0434.png', './video/p1/video.0435.png', './video/p1/video.0436.png', './video/p1/video.0437.png', './video/p1/video.0438.png', './video/p1/video.0439.png', './video/p1/video.0440.png', './video/p1/video.0441.png', './video/p1/video.0442.png', './video/p1/video.0443.png', './video/p1/video.0444.png', './video/p1/video.0445.png', './video/p1/video.0446.png', './video/p1/video.0447.png', './video/p1/video.0448.png', './video/p1/video.0449.png', './video/p1/video.0450.png', './video/p1/video.0451.png', './video/p1/video.0452.png', './video/p1/video.0453.png', './video/p1/video.0454.png', './video/p1/video.0455.png', './video/p1/video.0456.png', './video/p1/video.0457.png', './video/p1/video.0458.png', './video/p1/video.0459.png', './video/p1/video.0460.png', './video/p1/video.0461.png', './video/p1/video.0462.png', './video/p1/video.0463.png', './video/p1/video.0464.png', './video/p1/video.0465.png', './video/p1/video.0466.png', './video/p1/video.0467.png', './video/p1/video.0468.png', './video/p1/video.0469.png', './video/p1/video.0470.png', './video/p1/video.0471.png', './video/p1/video.0472.png', './video/p1/video.0473.png', './video/p1/video.0474.png', './video/p1/video.0475.png', './video/p1/video.0476.png', './video/p1/video.0477.png', './video/p1/video.0478.png', './video/p1/video.0479.png', './video/p1/video.0480.png', './video/p1/video.0481.png', './video/p1/video.0482.png', './video/p1/video.0483.png', './video/p1/video.0484.png', './video/p1/video.0485.png', './video/p1/video.0486.png', './video/p1/video.0487.png', './video/p1/video.0488.png', './video/p1/video.0489.png', './video/p1/video.0490.png', './video/p1/video.0491.png', './video/p1/video.0492.png', './video/p1/video.0493.png', './video/p1/video.0494.png', './video/p1/video.0495.png', './video/p1/video.0496.png', './video/p1/video.0497.png', './video/p1/video.0498.png', './video/p1/video.0499.png', './video/p1/video.0500.png', './video/p1/video.0501.png', './video/p1/video.0502.png', './video/p1/video.0503.png', './video/p1/video.0504.png', './video/p1/video.0505.png', './video/p1/video.0506.png', './video/p1/video.0507.png', './video/p1/video.0508.png', './video/p1/video.0509.png', './video/p1/video.0510.png', './video/p1/video.0511.png', './video/p1/video.0512.png', './video/p1/video.0513.png', './video/p1/video.0514.png', './video/p1/video.0515.png', './video/p1/video.0516.png', './video/p1/video.0517.png', './video/p1/video.0518.png', './video/p1/video.0519.png', './video/p1/video.0520.png', './video/p1/video.0521.png', './video/p1/video.0522.png', './video/p1/video.0523.png', './video/p1/video.0524.png', './video/p1/video.0525.png', './video/p1/video.0526.png', './video/p1/video.0527.png', './video/p1/video.0528.png', './video/p1/video.0529.png', './video/p1/video.0530.png', './video/p1/video.0531.png', './video/p1/video.0532.png', './video/p1/video.0533.png', './video/p1/video.0534.png', './video/p1/video.0535.png', './video/p1/video.0536.png', './video/p1/video.0537.png', './video/p1/video.0538.png', './video/p1/video.0539.png', './video/p1/video.0540.png', './video/p1/video.0541.png', './video/p1/video.0542.png', './video/p1/video.0543.png', './video/p1/video.0544.png', './video/p1/video.0545.png', './video/p1/video.0546.png', './video/p1/video.0547.png', './video/p1/video.0548.png', './video/p1/video.0549.png', './video/p1/video.0550.png', './video/p1/video.0551.png', './video/p1/video.0552.png', './video/p1/video.0553.png', './video/p1/video.0554.png', './video/p1/video.0555.png', './video/p1/video.0556.png', './video/p1/video.0557.png', './video/p1/video.0558.png', './video/p1/video.0559.png', './video/p1/video.0560.png', './video/p1/video.0561.png', './video/p1/video.0562.png', './video/p1/video.0563.png', './video/p1/video.0564.png', './video/p1/video.0565.png', './video/p1/video.0566.png', './video/p1/video.0567.png', './video/p1/video.0568.png', './video/p1/video.0569.png', './video/p1/video.0570.png', './video/p1/video.0571.png', './video/p1/video.0572.png', './video/p1/video.0573.png', './video/p1/video.0574.png', './video/p1/video.0575.png', './video/p1/video.0576.png', './video/p1/video.0577.png', './video/p1/video.0578.png', './video/p1/video.0579.png', './video/p1/video.0580.png', './video/p1/video.0581.png', './video/p1/video.0582.png', './video/p1/video.0583.png', './video/p1/video.0584.png', './video/p1/video.0585.png', './video/p1/video.0586.png', './video/p1/video.0587.png', './video/p1/video.0588.png', './video/p1/video.0589.png', './video/p1/video.0590.png', './video/p1/video.0591.png', './video/p1/video.0592.png', './video/p1/video.0593.png', './video/p1/video.0594.png', './video/p1/video.0595.png', './video/p1/video.0596.png', './video/p1/video.0597.png', './video/p1/video.0598.png', './video/p1/video.0599.png', './video/p1/video.0600.png', './video/p1/video.0601.png', './video/p1/video.0602.png', './video/p1/video.0603.png', './video/p1/video.0604.png', './video/p1/video.0605.png', './video/p1/video.0606.png', './video/p1/video.0607.png', './video/p1/video.0608.png', './video/p1/video.0609.png', './video/p1/video.0610.png', './video/p1/video.0611.png', './video/p1/video.0612.png', './video/p1/video.0613.png', './video/p1/video.0614.png', './video/p1/video.0615.png', './video/p1/video.0616.png', './video/p1/video.0617.png', './video/p1/video.0618.png', './video/p1/video.0619.png', './video/p1/video.0620.png', './video/p1/video.0621.png', './video/p1/video.0622.png', './video/p1/video.0623.png', './video/p1/video.0624.png', './video/p1/video.0625.png', './video/p1/video.0626.png', './video/p1/video.0627.png', './video/p1/video.0628.png', './video/p1/video.0629.png', './video/p1/video.0630.png', './video/p1/video.0631.png', './video/p1/video.0632.png', './video/p1/video.0633.png', './video/p1/video.0634.png', './video/p1/video.0635.png', './video/p1/video.0636.png', './video/p1/video.0637.png', './video/p1/video.0638.png', './video/p1/video.0639.png', './video/p1/video.0640.png', './video/p1/video.0641.png', './video/p1/video.0642.png', './video/p1/video.0643.png', './video/p1/video.0644.png', './video/p1/video.0645.png', './video/p1/video.0646.png', './video/p1/video.0647.png', './video/p1/video.0648.png', './video/p1/video.0649.png', './video/p1/video.0650.png', './video/p1/video.0651.png', './video/p1/video.0652.png', './video/p1/video.0653.png', './video/p1/video.0654.png', './video/p1/video.0655.png', './video/p1/video.0656.png', './video/p1/video.0657.png', './video/p1/video.0658.png', './video/p1/video.0659.png', './video/p1/video.0660.png', './video/p1/video.0661.png', './video/p1/video.0662.png', './video/p1/video.0663.png', './video/p1/video.0664.png', './video/p1/video.0665.png', './video/p1/video.0666.png', './video/p1/video.0667.png', './video/p1/video.0668.png', './video/p1/video.0669.png', './video/p1/video.0670.png', './video/p1/video.0671.png', './video/p1/video.0672.png', './video/p1/video.0673.png', './video/p1/video.0674.png', './video/p1/video.0675.png', './video/p1/video.0676.png', './video/p1/video.0677.png', './video/p1/video.0678.png', './video/p1/video.0679.png', './video/p1/video.0680.png', './video/p1/video.0681.png', './video/p1/video.0682.png', './video/p1/video.0683.png', './video/p1/video.0684.png', './video/p1/video.0685.png', './video/p1/video.0686.png', './video/p1/video.0687.png', './video/p1/video.0688.png', './video/p1/video.0689.png', './video/p1/video.0690.png', './video/p1/video.0691.png', './video/p1/video.0692.png', './video/p1/video.0693.png', './video/p1/video.0694.png', './video/p1/video.0695.png', './video/p1/video.0696.png', './video/p1/video.0697.png', './video/p1/video.0698.png', './video/p1/video.0699.png', './video/p1/video.0700.png', './video/p1/video.0701.png', './video/p1/video.0702.png', './video/p1/video.0703.png', './video/p1/video.0704.png', './video/p1/video.0705.png', './video/p1/video.0706.png', './video/p1/video.0707.png', './video/p1/video.0708.png', './video/p1/video.0709.png', './video/p1/video.0710.png']\n",
      "<class 'list'>\n",
      "711\n"
     ]
    },
    {
     "name": "stdout",
     "output_type": "stream",
     "text": [
      "GIF created successfully!\n"
     ]
    }
   ],
   "source": [
    "from PIL import Image\n",
    "import glob\n",
    "\n",
    "# Define the path pattern to your images\n",
    "image_folder = \"./video/p1/\"\n",
    "image_pattern = image_folder + \"*.png\"  # Assuming the images are in PNG format\n",
    "\n",
    "# Get the list of image file paths\n",
    "image_files = sorted(glob.glob(image_pattern))\n",
    "print(image_files)\n",
    "\n",
    "# Calculate the duration of each frame in milliseconds\n",
    "total_duration = 64  # in seconds\n",
    "frame_count = 710\n",
    "frame_duration = (total_duration / frame_count) * 1000  # in milliseconds\n",
    "\n",
    "# Open the images\n",
    "images = [Image.open(image) for image in image_files]\n",
    "print(type(images))\n",
    "print(len(images))\n",
    "# Save as GIF\n",
    "gif_path = \"./gift/p1.gif\"\n",
    "images[0].save(gif_path, save_all=True, append_images=images[1:], duration=frame_duration, loop=0)\n",
    "\n",
    "print(\"GIF created successfully!\")"
   ]
  },
  {
   "cell_type": "markdown",
   "id": "2f047be3",
   "metadata": {},
   "source": [
    "# Create Gif"
   ]
  },
  {
   "cell_type": "code",
   "execution_count": 55,
   "id": "a24efb9f",
   "metadata": {},
   "outputs": [
    {
     "name": "stdout",
     "output_type": "stream",
     "text": [
      "149.14285714285714\n"
     ]
    }
   ],
   "source": [
    "from PIL import Image\n",
    "import glob\n",
    "\n",
    "# Define the path pattern to your images\n",
    "image_folder = \"./gift_609/\"\n",
    "image_pattern = image_folder + \"*.png\"  # Assuming the images are in PNG format\n",
    "\n",
    "# Get the list of image file paths\n",
    "image_files = sorted(glob.glob(image_pattern))\n",
    "\n",
    "# Calculate the duration of each frame in milliseconds\n",
    "total_duration_ms = 26.1 * 1000  # 26.1 seconds to milliseconds\n",
    "num_frames = len(image_files)\n",
    "\n",
    "\n",
    "frame_duration = total_duration_ms / num_frames\n",
    "print(frame_duration)\n",
    "frame_duration=150\n",
    "images = [Image.open(image_file) for image_file in image_files]\n",
    "gif_path = \"./output_609.gif\"\n",
    "\n",
    "# Save the images as a GIF\n",
    "images[0].save(\n",
    "    gif_path,\n",
    "    save_all=True,\n",
    "    append_images=images[1:],\n",
    "    duration=frame_duration,\n",
    "    loop=0\n",
    ")"
   ]
  },
  {
   "cell_type": "code",
   "execution_count": null,
   "id": "2dd2b862",
   "metadata": {},
   "outputs": [],
   "source": []
  },
  {
   "cell_type": "code",
   "execution_count": null,
   "id": "6f540f30",
   "metadata": {},
   "outputs": [],
   "source": []
  },
  {
   "cell_type": "code",
   "execution_count": null,
   "id": "5f1a7411",
   "metadata": {},
   "outputs": [],
   "source": []
  },
  {
   "cell_type": "code",
   "execution_count": null,
   "id": "d41c5101",
   "metadata": {},
   "outputs": [],
   "source": []
  },
  {
   "cell_type": "code",
   "execution_count": 44,
   "id": "2f59e305",
   "metadata": {},
   "outputs": [],
   "source": [
    "from PIL import Image\n",
    "\n",
    "# Path to the GIF file\n",
    "gif_path = \"./output_test.gif\"\n",
    "\n",
    "# Open the GIF file\n",
    "gif = Image.open(gif_path)\n",
    "\n",
    "# Count the number of frames in the GIF\n",
    "frame_count = gif.n_frames\n",
    "\n",
    "# Calculate the total duration of the GIF\n",
    "total_duration = 0\n",
    "for frame in range(frame_count):\n",
    "    gif.seek(frame)\n",
    "    frame_duration = gif.info['duration']  # duration of the current frame in milliseconds\n",
    "    total_duration += frame_duration\n",
    "\n",
    "# Convert total duration from milliseconds to seconds\n",
    "total_duration_seconds = total_duration / 1000"
   ]
  },
  {
   "cell_type": "code",
   "execution_count": 45,
   "id": "dd97fe0e",
   "metadata": {},
   "outputs": [
    {
     "data": {
      "text/plain": [
       "26.25"
      ]
     },
     "execution_count": 45,
     "metadata": {},
     "output_type": "execute_result"
    }
   ],
   "source": [
    "total_duration_seconds"
   ]
  },
  {
   "cell_type": "code",
   "execution_count": 13,
   "id": "96bfe340",
   "metadata": {},
   "outputs": [
    {
     "data": {
      "text/plain": [
       "91"
      ]
     },
     "execution_count": 13,
     "metadata": {},
     "output_type": "execute_result"
    }
   ],
   "source": [
    "gif = Image.open(gif_path)\n",
    "\n",
    "# Count the number of frames in the GIF\n",
    "frame_count = gif.n_frames\n",
    "\n",
    "frame_count"
   ]
  },
  {
   "cell_type": "code",
   "execution_count": null,
   "id": "d8fb94fd",
   "metadata": {},
   "outputs": [],
   "source": []
  }
 ],
 "metadata": {
  "kernelspec": {
   "display_name": "Python 3 (ipykernel)",
   "language": "python",
   "name": "python3"
  },
  "language_info": {
   "codemirror_mode": {
    "name": "ipython",
    "version": 3
   },
   "file_extension": ".py",
   "mimetype": "text/x-python",
   "name": "python",
   "nbconvert_exporter": "python",
   "pygments_lexer": "ipython3",
   "version": "3.9.7"
  }
 },
 "nbformat": 4,
 "nbformat_minor": 5
}
