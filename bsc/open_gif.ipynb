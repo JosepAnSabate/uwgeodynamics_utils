{
 "cells": [
  {
   "cell_type": "markdown",
   "id": "f7dc1d21",
   "metadata": {},
   "source": [
    "# Gif Duration"
   ]
  },
  {
   "cell_type": "code",
   "execution_count": 2,
   "id": "ed0f7327",
   "metadata": {},
   "outputs": [],
   "source": [
    "from PIL import Image\n",
    "\n",
    "# Path to the GIF file\n",
    "gif_path = \"./gift_eloi/eloigif.gif\"\n",
    "\n",
    "# Open the GIF file\n",
    "gif = Image.open(gif_path)\n",
    "\n",
    "# Count the number of frames in the GIF\n",
    "frame_count = gif.n_frames\n",
    "\n",
    "# Calculate the total duration of the GIF\n",
    "total_duration = 0\n",
    "for frame in range(frame_count):\n",
    "    gif.seek(frame)\n",
    "    frame_duration = gif.info['duration']  # duration of the current frame in milliseconds\n",
    "    total_duration += frame_duration\n",
    "\n",
    "# Convert total duration from milliseconds to seconds\n",
    "total_duration_seconds = total_duration / 1000"
   ]
  },
  {
   "cell_type": "code",
   "execution_count": 3,
   "id": "ddde716b",
   "metadata": {},
   "outputs": [
    {
     "data": {
      "text/plain": [
       "26.1"
      ]
     },
     "execution_count": 3,
     "metadata": {},
     "output_type": "execute_result"
    }
   ],
   "source": [
    "total_duration_seconds"
   ]
  },
  {
   "cell_type": "markdown",
   "id": "57535e01",
   "metadata": {},
   "source": [
    "# Count Frames"
   ]
  },
  {
   "cell_type": "code",
   "execution_count": 4,
   "id": "17e594c1",
   "metadata": {
    "scrolled": true
   },
   "outputs": [
    {
     "data": {
      "text/plain": [
       "87"
      ]
     },
     "execution_count": 4,
     "metadata": {},
     "output_type": "execute_result"
    }
   ],
   "source": [
    "gif = Image.open(gif_path)\n",
    "\n",
    "# Count the number of frames in the GIF\n",
    "frame_count = gif.n_frames\n",
    "\n",
    "frame_count"
   ]
  },
  {
   "cell_type": "code",
   "execution_count": 10,
   "id": "f09e11df",
   "metadata": {},
   "outputs": [
    {
     "data": {
      "text/plain": [
       "0.3"
      ]
     },
     "execution_count": 10,
     "metadata": {},
     "output_type": "execute_result"
    }
   ],
   "source": [
    "26.1/87"
   ]
  },
  {
   "cell_type": "markdown",
   "id": "9a314657",
   "metadata": {},
   "source": [
    "# Create Gif"
   ]
  },
  {
   "cell_type": "code",
   "execution_count": 9,
   "id": "d81d7436",
   "metadata": {},
   "outputs": [
    {
     "name": "stdout",
     "output_type": "stream",
     "text": [
      "GIF created successfully!\n"
     ]
    }
   ],
   "source": [
    "from PIL import Image\n",
    "import glob\n",
    "\n",
    "# Define the path pattern to your images\n",
    "image_folder = \"./gift_410/\"\n",
    "image_pattern = image_folder + \"*.png\"  # Assuming the images are in PNG format\n",
    "\n",
    "# Get the list of image file paths\n",
    "image_files = sorted(glob.glob(image_pattern))\n",
    "\n",
    "# Calculate the duration of each frame in milliseconds\n",
    "total_duration = 26.1  # in seconds\n",
    "frame_count = 120\n",
    "frame_duration = (total_duration / frame_count) * 1000  # in milliseconds\n",
    "\n",
    "# Open the images\n",
    "images = [Image.open(image) for image in image_files]\n",
    "\n",
    "# Save as GIF\n",
    "gif_path = \"./output_410.gif\"\n",
    "images[0].save(gif_path, save_all=True, append_images=images[1:], duration=frame_duration, loop=0)\n",
    "\n",
    "print(\"GIF created successfully!\")"
   ]
  },
  {
   "cell_type": "markdown",
   "id": "2f047be3",
   "metadata": {},
   "source": [
    "# Create Gif"
   ]
  },
  {
   "cell_type": "code",
   "execution_count": 55,
   "id": "a24efb9f",
   "metadata": {},
   "outputs": [
    {
     "name": "stdout",
     "output_type": "stream",
     "text": [
      "149.14285714285714\n"
     ]
    }
   ],
   "source": [
    "from PIL import Image\n",
    "import glob\n",
    "\n",
    "# Define the path pattern to your images\n",
    "image_folder = \"./gift_609/\"\n",
    "image_pattern = image_folder + \"*.png\"  # Assuming the images are in PNG format\n",
    "\n",
    "# Get the list of image file paths\n",
    "image_files = sorted(glob.glob(image_pattern))\n",
    "\n",
    "# Calculate the duration of each frame in milliseconds\n",
    "total_duration_ms = 26.1 * 1000  # 26.1 seconds to milliseconds\n",
    "num_frames = len(image_files)\n",
    "\n",
    "\n",
    "frame_duration = total_duration_ms / num_frames\n",
    "print(frame_duration)\n",
    "frame_duration=150\n",
    "images = [Image.open(image_file) for image_file in image_files]\n",
    "gif_path = \"./output_609.gif\"\n",
    "\n",
    "# Save the images as a GIF\n",
    "images[0].save(\n",
    "    gif_path,\n",
    "    save_all=True,\n",
    "    append_images=images[1:],\n",
    "    duration=frame_duration,\n",
    "    loop=0\n",
    ")"
   ]
  },
  {
   "cell_type": "code",
   "execution_count": null,
   "id": "2dd2b862",
   "metadata": {},
   "outputs": [],
   "source": []
  },
  {
   "cell_type": "code",
   "execution_count": null,
   "id": "6f540f30",
   "metadata": {},
   "outputs": [],
   "source": []
  },
  {
   "cell_type": "code",
   "execution_count": null,
   "id": "5f1a7411",
   "metadata": {},
   "outputs": [],
   "source": []
  },
  {
   "cell_type": "code",
   "execution_count": null,
   "id": "d41c5101",
   "metadata": {},
   "outputs": [],
   "source": []
  },
  {
   "cell_type": "code",
   "execution_count": 44,
   "id": "2f59e305",
   "metadata": {},
   "outputs": [],
   "source": [
    "from PIL import Image\n",
    "\n",
    "# Path to the GIF file\n",
    "gif_path = \"./output_test.gif\"\n",
    "\n",
    "# Open the GIF file\n",
    "gif = Image.open(gif_path)\n",
    "\n",
    "# Count the number of frames in the GIF\n",
    "frame_count = gif.n_frames\n",
    "\n",
    "# Calculate the total duration of the GIF\n",
    "total_duration = 0\n",
    "for frame in range(frame_count):\n",
    "    gif.seek(frame)\n",
    "    frame_duration = gif.info['duration']  # duration of the current frame in milliseconds\n",
    "    total_duration += frame_duration\n",
    "\n",
    "# Convert total duration from milliseconds to seconds\n",
    "total_duration_seconds = total_duration / 1000"
   ]
  },
  {
   "cell_type": "code",
   "execution_count": 45,
   "id": "dd97fe0e",
   "metadata": {},
   "outputs": [
    {
     "data": {
      "text/plain": [
       "26.25"
      ]
     },
     "execution_count": 45,
     "metadata": {},
     "output_type": "execute_result"
    }
   ],
   "source": [
    "total_duration_seconds"
   ]
  },
  {
   "cell_type": "code",
   "execution_count": 13,
   "id": "96bfe340",
   "metadata": {},
   "outputs": [
    {
     "data": {
      "text/plain": [
       "91"
      ]
     },
     "execution_count": 13,
     "metadata": {},
     "output_type": "execute_result"
    }
   ],
   "source": [
    "gif = Image.open(gif_path)\n",
    "\n",
    "# Count the number of frames in the GIF\n",
    "frame_count = gif.n_frames\n",
    "\n",
    "frame_count"
   ]
  },
  {
   "cell_type": "code",
   "execution_count": null,
   "id": "d8fb94fd",
   "metadata": {},
   "outputs": [],
   "source": []
  }
 ],
 "metadata": {
  "kernelspec": {
   "display_name": "Python 3 (ipykernel)",
   "language": "python",
   "name": "python3"
  },
  "language_info": {
   "codemirror_mode": {
    "name": "ipython",
    "version": 3
   },
   "file_extension": ".py",
   "mimetype": "text/x-python",
   "name": "python",
   "nbconvert_exporter": "python",
   "pygments_lexer": "ipython3",
   "version": "3.9.7"
  }
 },
 "nbformat": 4,
 "nbformat_minor": 5
}
