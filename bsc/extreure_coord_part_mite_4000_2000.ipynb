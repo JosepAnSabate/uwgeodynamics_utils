{
 "cells": [
  {
   "cell_type": "code",
   "execution_count": 16,
   "id": "223ed350",
   "metadata": {},
   "outputs": [],
   "source": [
    "import h5py\n",
    "import pandas as pd\n",
    "import numpy as np\n",
    "import os\n",
    "\n",
    "pd.set_option('display.float_format', '{:.16f}'.format)\n",
    "pd.set_option('display.max_columns', None)  # Display all columns\n",
    "pd.set_option('display.expand_frame_repr', False)  # Do not wrap columns\n",
    "pd.set_option('display.max_colwidth', None)"
   ]
  },
  {
   "cell_type": "markdown",
   "id": "af94cb4f",
   "metadata": {},
   "source": [
    "### 300 a 1700 y km"
   ]
  },
  {
   "cell_type": "code",
   "execution_count": 19,
   "id": "68ebd8cf",
   "metadata": {},
   "outputs": [
    {
     "data": {
      "text/html": [
       "<div>\n",
       "<style scoped>\n",
       "    .dataframe tbody tr th:only-of-type {\n",
       "        vertical-align: middle;\n",
       "    }\n",
       "\n",
       "    .dataframe tbody tr th {\n",
       "        vertical-align: top;\n",
       "    }\n",
       "\n",
       "    .dataframe thead th {\n",
       "        text-align: right;\n",
       "    }\n",
       "</style>\n",
       "<table border=\"1\" class=\"dataframe\">\n",
       "  <thead>\n",
       "    <tr style=\"text-align: right;\">\n",
       "      <th></th>\n",
       "      <th>data</th>\n",
       "    </tr>\n",
       "  </thead>\n",
       "  <tbody>\n",
       "    <tr>\n",
       "      <th>0</th>\n",
       "      <td>[1600.0, 300.0, -400.00000000000006]</td>\n",
       "    </tr>\n",
       "    <tr>\n",
       "      <th>1</th>\n",
       "      <td>[1400.0, 922.2222222222223, -400.00000000000006]</td>\n",
       "    </tr>\n",
       "    <tr>\n",
       "      <th>2</th>\n",
       "      <td>[1400.0, 922.2222222222223, -600.0]</td>\n",
       "    </tr>\n",
       "    <tr>\n",
       "      <th>3</th>\n",
       "      <td>[1466.6666666666667, 922.2222222222223, -150.0]</td>\n",
       "    </tr>\n",
       "    <tr>\n",
       "      <th>4</th>\n",
       "      <td>[1533.3333333333335, 922.2222222222223, -400.00000000000006]</td>\n",
       "    </tr>\n",
       "    <tr>\n",
       "      <th>5</th>\n",
       "      <td>[1733.3333333333335, 922.2222222222223, -400.00000000000006]</td>\n",
       "    </tr>\n",
       "    <tr>\n",
       "      <th>6</th>\n",
       "      <td>[1466.6666666666667, 1233.3333333333333, -150.0]</td>\n",
       "    </tr>\n",
       "    <tr>\n",
       "      <th>7</th>\n",
       "      <td>[1600.0, 1700.0, -400.00000000000006]</td>\n",
       "    </tr>\n",
       "  </tbody>\n",
       "</table>\n",
       "</div>"
      ],
      "text/plain": [
       "                                                           data\n",
       "0                          [1600.0, 300.0, -400.00000000000006]\n",
       "1              [1400.0, 922.2222222222223, -400.00000000000006]\n",
       "2                           [1400.0, 922.2222222222223, -600.0]\n",
       "3               [1466.6666666666667, 922.2222222222223, -150.0]\n",
       "4  [1533.3333333333335, 922.2222222222223, -400.00000000000006]\n",
       "5  [1733.3333333333335, 922.2222222222223, -400.00000000000006]\n",
       "6              [1466.6666666666667, 1233.3333333333333, -150.0]\n",
       "7                         [1600.0, 1700.0, -400.00000000000006]"
      ]
     },
     "execution_count": 19,
     "metadata": {},
     "output_type": "execute_result"
    }
   ],
   "source": [
    "h5_file_coord =  f'/home/jovyan/workspace/Desktop/bsc_outputs/particules_solitaries/codi_i_dades_mite/data/lag-0.h5'\n",
    "\n",
    "indices_to_select = [35, 405, 409, 410, 425, 455,610, 935]\n",
    "\n",
    "# Initialize a list to store the data\n",
    "selected_data = []\n",
    "\n",
    "# Open the HDF5 file and read the data\n",
    "with h5py.File(h5_file_coord, 'r') as file:\n",
    "    for key in file.keys():\n",
    "        for idx in indices_to_select:\n",
    "            #print(idx)\n",
    "            np_array = file[key][idx]\n",
    "            selected_data.append({key: np_array})\n",
    "\n",
    "# Convert the list of dictionaries to a DataFrame\n",
    "df = pd.DataFrame(selected_data)\n",
    "\n",
    "df.head(10)"
   ]
  },
  {
   "cell_type": "code",
   "execution_count": null,
   "id": "f75608b7",
   "metadata": {},
   "outputs": [],
   "source": []
  }
 ],
 "metadata": {
  "kernelspec": {
   "display_name": "Python 3 (ipykernel)",
   "language": "python",
   "name": "python3"
  },
  "language_info": {
   "codemirror_mode": {
    "name": "ipython",
    "version": 3
   },
   "file_extension": ".py",
   "mimetype": "text/x-python",
   "name": "python",
   "nbconvert_exporter": "python",
   "pygments_lexer": "ipython3",
   "version": "3.9.7"
  }
 },
 "nbformat": 4,
 "nbformat_minor": 5
}
