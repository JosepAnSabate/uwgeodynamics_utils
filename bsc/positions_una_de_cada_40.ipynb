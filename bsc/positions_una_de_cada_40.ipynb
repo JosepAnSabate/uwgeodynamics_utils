{
 "cells": [
  {
   "cell_type": "markdown",
   "id": "a9b51e3a",
   "metadata": {},
   "source": [
    "position_{particula}_{step}.h5\n",
    "\n",
    "position_{particula}_{step}.xdmf\n",
    "\n",
    "1902 steps"
   ]
  },
  {
   "cell_type": "code",
   "execution_count": 18,
   "id": "8f0820a5",
   "metadata": {},
   "outputs": [
    {
     "name": "stdout",
     "output_type": "stream",
     "text": [
      "Selected items have been saved to the CSV file in: ./my_positions/new_positions/position_3_1902_reduced.csv\n"
     ]
    }
   ],
   "source": [
    "import h5py\n",
    "import csv\n",
    "import os\n",
    "\n",
    "# Define the source HDF5 file and target directory\n",
    "dir_data = './my_positions/path/'\n",
    "h5_file = os.path.join(dir_data, 'position_3_1902.h5')\n",
    "target_dir = './my_positions/new_positions/'\n",
    "os.makedirs(target_dir, exist_ok=True)\n",
    "\n",
    "# Define the target CSV file path\n",
    "csv_file = os.path.join(target_dir, 'position_3_1902_reduced.csv')\n",
    "\n",
    "# Open the HDF5 file and process each key\n",
    "with h5py.File(h5_file, 'r') as file:\n",
    "    with open(csv_file, 'w', newline='') as csvfile:\n",
    "        csv_writer = csv.writer(csvfile)\n",
    "        \n",
    "        # Write the header for CSV\n",
    "        csv_writer.writerow(['x', 'y', 'z'])\n",
    "        \n",
    "        for key in file.keys():\n",
    "            # Read the full dataset and select every 40th item\n",
    "            total_coords = file[key][:]\n",
    "            reduced_coords = total_coords[::80]\n",
    "            \n",
    "            # Write the reduced coordinates to the CSV file\n",
    "            csv_writer.writerows(reduced_coords)\n",
    "\n",
    "print(\"Selected items have been saved to the CSV file in:\", csv_file)\n"
   ]
  },
  {
   "cell_type": "code",
   "execution_count": null,
   "id": "04a0cb88",
   "metadata": {},
   "outputs": [],
   "source": []
  }
 ],
 "metadata": {
  "kernelspec": {
   "display_name": "Python 3 (ipykernel)",
   "language": "python",
   "name": "python3"
  },
  "language_info": {
   "codemirror_mode": {
    "name": "ipython",
    "version": 3
   },
   "file_extension": ".py",
   "mimetype": "text/x-python",
   "name": "python",
   "nbconvert_exporter": "python",
   "pygments_lexer": "ipython3",
   "version": "3.9.7"
  }
 },
 "nbformat": 4,
 "nbformat_minor": 5
}
