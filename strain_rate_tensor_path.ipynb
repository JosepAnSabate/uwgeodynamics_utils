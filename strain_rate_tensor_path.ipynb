{
 "cells": [
  {
   "cell_type": "code",
   "execution_count": 1,
   "id": "f6d19a07",
   "metadata": {},
   "outputs": [],
   "source": [
    "import h5py\n",
    "import pandas as pd\n",
    "import numpy as np\n",
    "import os\n",
    "import random"
   ]
  },
  {
   "cell_type": "markdown",
   "id": "b21fc48e",
   "metadata": {},
   "source": [
    "### In Paraview:\n",
    "\n",
    "    a) Open -> CSV Reader -> Apply\n",
    "    \n",
    "    b)Filtetr -> Alphabetical -> Table to Points\n",
    "    \n",
    "        x = x\n",
    "        y = y \n",
    "        z = z\n",
    "        \n",
    "        Apply\n",
    "        \n",
    "        \n",
    "    c) Filter -> Alphabetical -> Glyph\n",
    "    \n",
    "    Scalable Factor 250\n",
    "    \n",
    "    Apply\n",
    "        "
   ]
  },
  {
   "cell_type": "code",
   "execution_count": 20,
   "id": "9c87bc66",
   "metadata": {},
   "outputs": [],
   "source": [
    "def create_strainrate_tensor_path(\n",
    "    dir_data='./data/',\n",
    "    num_particle=410\n",
    "):\n",
    "           #########################################\n",
    "    \"\"\"\n",
    "    Use lag-{time} for coordinates and lag_strainratetensor\n",
    "    for plotting the strainrate tensor arrow.\n",
    "    \"\"\"\n",
    "    #########################################\n",
    "    \n",
    "    # Check if the data folder exists\n",
    "    if not os.path.exists(dir_data):\n",
    "        raise FileNotFoundError(f\"Folder '{dir_data}' not found.\")\n",
    "    \n",
    "    # count num of timesteps\n",
    "    prefix = f'lag_strainratetensor'\n",
    "    files = os.listdir(dir_data)\n",
    "    num_files = sum([1 for file in files if file.startswith(prefix)])\n",
    "    print(num_files)\n",
    "    pd.set_option('display.precision', 20)\n",
    "    columns = ['x', 'y', 'z', 'pr_eig_x', 'pr_eig_y', 'pr_eig_z']\n",
    "    df = pd.DataFrame(columns=columns)\n",
    "    \n",
    "    # loop by number of files\n",
    "    print('start while loop')\n",
    "    time = 0\n",
    "    while time < num_files:\n",
    "        # velfield\n",
    "        h5_file =  dir_data + f'lag_strainratetensor-{time}.h5'\n",
    "            \n",
    "        with h5py.File(h5_file, 'r') as file:\n",
    "            for key in file.keys():\n",
    "                strain_rate = file[key][num_particle]\n",
    "                \n",
    "                \n",
    "                \n",
    "        tensor = np.array([\n",
    "                [strain_rate[0], strain_rate[3], strain_rate[4]],\n",
    "                [strain_rate[3], strain_rate[1],strain_rate[5]],\n",
    "                [strain_rate[4], strain_rate[5], strain_rate[2]]\n",
    "            ])\n",
    "        \n",
    "        \n",
    "        eigenvalues, eigenvectors = np.linalg.eigh(tensor)\n",
    "        # Select the principal eigenvector (corresponding to the largest eigenvalue)\n",
    "        principal_index = np.argmax(eigenvalues)\n",
    "        principal_eigenvector = eigenvectors[:, principal_index]\n",
    "\n",
    "        \n",
    "        #coordinates\n",
    "        h5_file_coord =  dir_data +  f'lag-{time}.h5'\n",
    "        with h5py.File(h5_file_coord, 'r') as file:\n",
    "            # create a variable name for storing strain rate tensor array\n",
    "            for key in file.keys():\n",
    "                coordinates = file[key][num_particle]\n",
    "        \n",
    "        # construct df row\n",
    "        x = coordinates[0]\n",
    "        y = coordinates[1]\n",
    "        z = coordinates[2]\n",
    "        pr_eig_x = principal_eigenvector[0]\n",
    "        pr_eig_y = principal_eigenvector[1]\n",
    "        pr_eig_z = principal_eigenvector[2]\n",
    "        \n",
    "        new_row = {'x': x, 'y': y, 'z': z, 'pr_eig_x': pr_eig_x, 'pr_eig_y': pr_eig_y, 'pr_eig_z': pr_eig_z}\n",
    "        df = df.append(new_row, ignore_index=True)\n",
    "        \n",
    "        # SAVE FILE\n",
    "        save_path = './strain_rate_tensor_path/'\n",
    "        # Check if destination folder exist\n",
    "        os.makedirs(save_path, exist_ok=True)\n",
    "        df.to_csv(save_path + f'velocity_vector_{num_particle}_{time}.csv', index=False)\n",
    "\n",
    "        time += 1"
   ]
  },
  {
   "cell_type": "code",
   "execution_count": 21,
   "id": "0f7f7bd6",
   "metadata": {},
   "outputs": [
    {
     "name": "stdout",
     "output_type": "stream",
     "text": [
      "10\n",
      "start while loop\n"
     ]
    },
    {
     "name": "stderr",
     "output_type": "stream",
     "text": [
      "/tmp/ipykernel_208/1286357430.py:67: FutureWarning: The frame.append method is deprecated and will be removed from pandas in a future version. Use pandas.concat instead.\n",
      "  df = df.append(new_row, ignore_index=True)\n",
      "/tmp/ipykernel_208/1286357430.py:67: FutureWarning: The frame.append method is deprecated and will be removed from pandas in a future version. Use pandas.concat instead.\n",
      "  df = df.append(new_row, ignore_index=True)\n",
      "/tmp/ipykernel_208/1286357430.py:67: FutureWarning: The frame.append method is deprecated and will be removed from pandas in a future version. Use pandas.concat instead.\n",
      "  df = df.append(new_row, ignore_index=True)\n",
      "/tmp/ipykernel_208/1286357430.py:67: FutureWarning: The frame.append method is deprecated and will be removed from pandas in a future version. Use pandas.concat instead.\n",
      "  df = df.append(new_row, ignore_index=True)\n",
      "/tmp/ipykernel_208/1286357430.py:67: FutureWarning: The frame.append method is deprecated and will be removed from pandas in a future version. Use pandas.concat instead.\n",
      "  df = df.append(new_row, ignore_index=True)\n",
      "/tmp/ipykernel_208/1286357430.py:67: FutureWarning: The frame.append method is deprecated and will be removed from pandas in a future version. Use pandas.concat instead.\n",
      "  df = df.append(new_row, ignore_index=True)\n",
      "/tmp/ipykernel_208/1286357430.py:67: FutureWarning: The frame.append method is deprecated and will be removed from pandas in a future version. Use pandas.concat instead.\n",
      "  df = df.append(new_row, ignore_index=True)\n",
      "/tmp/ipykernel_208/1286357430.py:67: FutureWarning: The frame.append method is deprecated and will be removed from pandas in a future version. Use pandas.concat instead.\n",
      "  df = df.append(new_row, ignore_index=True)\n",
      "/tmp/ipykernel_208/1286357430.py:67: FutureWarning: The frame.append method is deprecated and will be removed from pandas in a future version. Use pandas.concat instead.\n",
      "  df = df.append(new_row, ignore_index=True)\n",
      "/tmp/ipykernel_208/1286357430.py:67: FutureWarning: The frame.append method is deprecated and will be removed from pandas in a future version. Use pandas.concat instead.\n",
      "  df = df.append(new_row, ignore_index=True)\n"
     ]
    }
   ],
   "source": [
    "create_strainrate_tensor_path(dir_data='/home/jovyan/workspace/Desktop/wa/3d/no_t/outputs_3d_no_t_ample-moltsanys-3650-60anys-velocity_field_strain_rate_tensor/')"
   ]
  },
  {
   "cell_type": "code",
   "execution_count": null,
   "id": "a55c49ab",
   "metadata": {},
   "outputs": [],
   "source": []
  },
  {
   "cell_type": "code",
   "execution_count": null,
   "id": "885d40df",
   "metadata": {},
   "outputs": [],
   "source": []
  },
  {
   "cell_type": "markdown",
   "id": "c575f280",
   "metadata": {},
   "source": [
    "# Coordenades"
   ]
  },
  {
   "cell_type": "code",
   "execution_count": 3,
   "id": "40fc530e",
   "metadata": {},
   "outputs": [
    {
     "data": {
      "text/plain": [
       "array([1404.07337971, 4997.74705993, -150.59059709])"
      ]
     },
     "execution_count": 3,
     "metadata": {},
     "output_type": "execute_result"
    }
   ],
   "source": [
    "h5_file_coord =  f'/home/jovyan/workspace/Desktop/wa/3d/no_t/outputs_3d_no_t_ample-moltsanys-3650-60anys-velocity_field_strain_rate_tensor/lag-5.h5'\n",
    "\n",
    "\n",
    "with h5py.File(h5_file_coord, 'r') as file:\n",
    "    # create a variable name to store coord\n",
    "    dataset_name = f'np_array_5'\n",
    "\n",
    "    for key in file.keys():\n",
    "        # create a string with the name of the var, and assign numpy value from h5\n",
    "        globals()[dataset_name] = file[key][:] \n",
    "\n",
    "np_array_5[0]  \n",
    "\n",
    "coordinates = np_array_5[0]  \n",
    "coordinates"
   ]
  },
  {
   "cell_type": "markdown",
   "id": "ab1f774e",
   "metadata": {},
   "source": [
    "# Strai rate tensor"
   ]
  },
  {
   "cell_type": "code",
   "execution_count": 4,
   "id": "3bed45ba",
   "metadata": {},
   "outputs": [
    {
     "data": {
      "text/plain": [
       "array([ 5.5735467e-16, -1.3298003e-16,  1.5577066e-16, -3.2025191e-16,\n",
       "        6.2750456e-16,  7.3679307e-17], dtype=float32)"
      ]
     },
     "execution_count": 4,
     "metadata": {},
     "output_type": "execute_result"
    }
   ],
   "source": [
    "\n",
    "h5_file_coord =  f'/home/jovyan/workspace/Desktop/wa/3d/no_t/outputs_3d_no_t_ample-moltsanys-3650-60anys-velocity_field_strain_rate_tensor/lag_strainratetensor-5.h5'\n",
    "\n",
    "with h5py.File(h5_file_coord, 'r') as file:\n",
    "    # create a variable name for storing strain rate tensor array\n",
    "    dataset_name = f'np_array_6'\n",
    "\n",
    "    for key in file.keys():\n",
    "        dataset_name = file[key][:] \n",
    "\n",
    "                    \n",
    "dataset_name[0]"
   ]
  },
  {
   "cell_type": "code",
   "execution_count": 5,
   "id": "5d630b03",
   "metadata": {},
   "outputs": [
    {
     "data": {
      "text/plain": [
       "array([ 5.5735467e-16, -1.3298003e-16,  1.5577066e-16, -3.2025191e-16,\n",
       "        6.2750456e-16,  7.3679307e-17], dtype=float32)"
      ]
     },
     "execution_count": 5,
     "metadata": {},
     "output_type": "execute_result"
    }
   ],
   "source": [
    "strain_rate = dataset_name[0]\n",
    "strain_rate"
   ]
  },
  {
   "cell_type": "code",
   "execution_count": 6,
   "id": "c6a46a35",
   "metadata": {},
   "outputs": [],
   "source": [
    " tensor = np.array([\n",
    "        [strain_rate[0], strain_rate[3], strain_rate[4]],\n",
    "        [strain_rate[3], strain_rate[1],strain_rate[5]],\n",
    "        [strain_rate[4], strain_rate[5], strain_rate[2]]\n",
    "    ])"
   ]
  },
  {
   "cell_type": "code",
   "execution_count": 9,
   "id": "f6588565",
   "metadata": {},
   "outputs": [],
   "source": [
    "eigenvalues, eigenvectors = np.linalg.eigh(tensor)"
   ]
  },
  {
   "cell_type": "code",
   "execution_count": 12,
   "id": "f5063d03",
   "metadata": {
    "scrolled": true
   },
   "outputs": [
    {
     "data": {
      "text/plain": [
       "(array([-4.9081970e-16,  1.5045583e-17,  1.0559194e-15], dtype=float32),\n",
       " array([[ 0.53737485, -0.22331978, -0.81323826],\n",
       "        [ 0.60244304,  0.7764582 ,  0.18486497],\n",
       "        [-0.59016156,  0.58927155, -0.5517866 ]], dtype=float32))"
      ]
     },
     "execution_count": 12,
     "metadata": {},
     "output_type": "execute_result"
    }
   ],
   "source": [
    "eigenvalues, eigenvectors"
   ]
  },
  {
   "cell_type": "code",
   "execution_count": 10,
   "id": "4220eb85",
   "metadata": {},
   "outputs": [],
   "source": [
    "# Select the principal eigenvector (corresponding to the largest eigenvalue)\n",
    "principal_index = np.argmax(eigenvalues)\n",
    "principal_eigenvector = eigenvectors[:, principal_index]"
   ]
  },
  {
   "cell_type": "code",
   "execution_count": 11,
   "id": "44953fca",
   "metadata": {},
   "outputs": [
    {
     "data": {
      "text/plain": [
       "array([-0.81323826,  0.18486497, -0.5517866 ], dtype=float32)"
      ]
     },
     "execution_count": 11,
     "metadata": {},
     "output_type": "execute_result"
    }
   ],
   "source": [
    "principal_eigenvector"
   ]
  },
  {
   "cell_type": "code",
   "execution_count": 14,
   "id": "a1a646d6",
   "metadata": {},
   "outputs": [
    {
     "data": {
      "text/plain": [
       "2"
      ]
     },
     "execution_count": 14,
     "metadata": {},
     "output_type": "execute_result"
    }
   ],
   "source": [
    "principal_index"
   ]
  },
  {
   "cell_type": "code",
   "execution_count": 15,
   "id": "44a149a2",
   "metadata": {},
   "outputs": [
    {
     "data": {
      "text/html": [
       "<div>\n",
       "<style scoped>\n",
       "    .dataframe tbody tr th:only-of-type {\n",
       "        vertical-align: middle;\n",
       "    }\n",
       "\n",
       "    .dataframe tbody tr th {\n",
       "        vertical-align: top;\n",
       "    }\n",
       "\n",
       "    .dataframe thead th {\n",
       "        text-align: right;\n",
       "    }\n",
       "</style>\n",
       "<table border=\"1\" class=\"dataframe\">\n",
       "  <thead>\n",
       "    <tr style=\"text-align: right;\">\n",
       "      <th></th>\n",
       "      <th>x</th>\n",
       "      <th>y</th>\n",
       "      <th>z</th>\n",
       "      <th>pr_eig_x</th>\n",
       "      <th>pr_eig_y</th>\n",
       "      <th>pr_eig_z</th>\n",
       "    </tr>\n",
       "  </thead>\n",
       "  <tbody>\n",
       "    <tr>\n",
       "      <th>0</th>\n",
       "      <td>1500</td>\n",
       "      <td>1404.07338</td>\n",
       "      <td>-150.590597</td>\n",
       "      <td>-0.813238</td>\n",
       "      <td>0.184865</td>\n",
       "      <td>-0.551787</td>\n",
       "    </tr>\n",
       "  </tbody>\n",
       "</table>\n",
       "</div>"
      ],
      "text/plain": [
       "      x           y           z  pr_eig_x  pr_eig_y  pr_eig_z\n",
       "0  1500  1404.07338 -150.590597 -0.813238  0.184865 -0.551787"
      ]
     },
     "execution_count": 15,
     "metadata": {},
     "output_type": "execute_result"
    }
   ],
   "source": [
    "data = {\n",
    "    'x': 1500,\n",
    "    'y': [coordinates[0]],\n",
    "    'z': [coordinates[2]],\n",
    "    'pr_eig_x': [principal_eigenvector[0]],\n",
    "    'pr_eig_y': [principal_eigenvector[1]],\n",
    "    'pr_eig_z': [principal_eigenvector[2]]\n",
    "}\n",
    "\n",
    "df = pd.DataFrame(data)\n",
    "df.head()"
   ]
  },
  {
   "cell_type": "code",
   "execution_count": 16,
   "id": "0f16f284",
   "metadata": {},
   "outputs": [],
   "source": [
    "df.to_csv('strain_rate_eigenvectors.csv', index=False)"
   ]
  },
  {
   "cell_type": "code",
   "execution_count": null,
   "id": "11ff13ff",
   "metadata": {},
   "outputs": [],
   "source": []
  }
 ],
 "metadata": {
  "kernelspec": {
   "display_name": "Python 3 (ipykernel)",
   "language": "python",
   "name": "python3"
  },
  "language_info": {
   "codemirror_mode": {
    "name": "ipython",
    "version": 3
   },
   "file_extension": ".py",
   "mimetype": "text/x-python",
   "name": "python",
   "nbconvert_exporter": "python",
   "pygments_lexer": "ipython3",
   "version": "3.9.7"
  }
 },
 "nbformat": 4,
 "nbformat_minor": 5
}
